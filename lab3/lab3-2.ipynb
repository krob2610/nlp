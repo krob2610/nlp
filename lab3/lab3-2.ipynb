{
 "cells": [
  {
   "cell_type": "code",
   "execution_count": null,
   "metadata": {
    "collapsed": true,
    "id": "U8oY64bvkFCT"
   },
   "outputs": [],
   "source": [
    "import pandas as pd\n",
    "import os\n",
    "import re\n"
   ]
  },
  {
   "cell_type": "code",
   "execution_count": null,
   "metadata": {
    "id": "zKE1jbiXkay6"
   },
   "outputs": [],
   "source": [
    "def read_text_file(file_path):\n",
    "    with open(file_path, 'r') as f:\n",
    "        return f.read().replace('\\n', ' ')"
   ]
  },
  {
   "cell_type": "markdown",
   "metadata": {
    "collapsed": false,
    "id": "RIPvuvvikFCU"
   },
   "source": [
    "\n",
    "1. Use the corpus from exercise no. 1 or any other Polish corpus of comparable size.\n"
   ]
  },
  {
   "cell_type": "code",
   "execution_count": 91,
   "metadata": {
    "colab": {
     "base_uri": "https://localhost:8080/"
    },
    "id": "4ZZlLrV9wRc5",
    "outputId": "fe378d23-a122-447f-8ce8-1f7e42692f6b"
   },
   "outputs": [
    {
     "output_type": "stream",
     "name": "stdout",
     "text": [
      "Drive already mounted at /content/drive; to attempt to forcibly remount, call drive.mount(\"/content/drive\", force_remount=True).\n"
     ]
    }
   ],
   "source": [
    "from google.colab import drive\n",
    "drive.mount('/content/drive')\n"
   ]
  },
  {
   "cell_type": "code",
   "execution_count": null,
   "metadata": {
    "id": "mcMalBwvkFCY"
   },
   "outputs": [],
   "source": [
    "articles_list = []\n",
    "articles_name = []\n",
    "path = \"/content/drive/MyDrive/ustawy\"\n",
    "#path = \"ustawy\"\n",
    "for file in os.listdir(path):\n",
    "    # Check whether file is in text format or not\n",
    "    file_path = f\"{path}/{file}\"\n",
    "    temp = read_text_file(file_path).replace('\\n',' ')\n",
    "    articles_list.append(temp.replace('\\xa0', ''))\n",
    "    articles_name.append(file)"
   ]
  },
  {
   "cell_type": "markdown",
   "metadata": {
    "collapsed": false,
    "id": "rv5rsXIakFCZ"
   },
   "source": [
    "2. Make sure the texts in the corpus does not contain HTML code."
   ]
  },
  {
   "cell_type": "markdown",
   "metadata": {
    "id": "ztXhWUAiR7_U"
   },
   "source": [
    "Standardowe czyszczenie kodu z html"
   ]
  },
  {
   "cell_type": "code",
   "execution_count": null,
   "metadata": {
    "id": "kCtSBTQ3kFCZ"
   },
   "outputs": [],
   "source": [
    "import re\n",
    "\n"
   ]
  },
  {
   "cell_type": "code",
   "execution_count": null,
   "metadata": {
    "id": "doQRUABjkFCZ"
   },
   "outputs": [],
   "source": [
    "\n",
    "articles_list = [re.sub('<[^<]+?>', '', text) for text in articles_list]"
   ]
  },
  {
   "cell_type": "markdown",
   "metadata": {
    "collapsed": false,
    "id": "ZncXE_aSkFCZ"
   },
   "source": [
    "3. Use SpaCy tokenizer API to tokenize the text from the cleaned law corpus."
   ]
  },
  {
   "cell_type": "markdown",
   "metadata": {
    "id": "TN2371bSSTG4"
   },
   "source": [
    "Ładowanie spacy z w jezyku polskim oraz utworzenie listy doc bedacej tokenizacja art"
   ]
  },
  {
   "cell_type": "code",
   "execution_count": null,
   "metadata": {
    "id": "0kWZqQTikFCa"
   },
   "outputs": [],
   "source": [
    "#from spacy.tokenizer import Tokenizer\n",
    "from spacy.lang.pl import Polish\n",
    "nlp = Polish()\n",
    "tokenizer = nlp.tokenizer"
   ]
  },
  {
   "cell_type": "code",
   "execution_count": null,
   "metadata": {
    "id": "ooax7L21kFCa"
   },
   "outputs": [],
   "source": [
    "doc = [tokenizer(art) for art in articles_list]"
   ]
  },
  {
   "cell_type": "markdown",
   "metadata": {
    "collapsed": false,
    "id": "cny1wUuwkFCb"
   },
   "source": [
    "4. Compute frequency list for each of the processed files."
   ]
  },
  {
   "cell_type": "markdown",
   "metadata": {
    "id": "5A6MdiQmS5Cj"
   },
   "source": [
    "Tworzenie listy wystapien za pomoca collections Counter"
   ]
  },
  {
   "cell_type": "code",
   "execution_count": null,
   "metadata": {
    "id": "EF0QHwpNkFCb"
   },
   "outputs": [],
   "source": [
    "doc_text = [[token.text for token in document] for document in doc]"
   ]
  },
  {
   "cell_type": "code",
   "execution_count": null,
   "metadata": {
    "id": "Y38a3rTzkFCb"
   },
   "outputs": [],
   "source": [
    "from collections import Counter\n",
    "\n",
    "frequency_list = [Counter(doc) for doc in doc_text]"
   ]
  },
  {
   "cell_type": "code",
   "execution_count": null,
   "metadata": {
    "colab": {
     "base_uri": "https://localhost:8080/"
    },
    "id": "A1MUFkCXkFCb",
    "outputId": "2f4f72b5-de36-4191-d04e-78b2136ae251"
   },
   "outputs": [
    {
     "data": {
      "text/plain": [
       "[('.', 462), (',', 271), ('z', 118), ('r', 92), ('w', 91)]"
      ]
     },
     "execution_count": 12,
     "metadata": {},
     "output_type": "execute_result"
    }
   ],
   "source": [
    "frequency_list[1].most_common(5)"
   ]
  },
  {
   "cell_type": "markdown",
   "metadata": {
    "collapsed": false,
    "id": "IlkU9eFgkFCc"
   },
   "source": [
    "5. Aggregate the result to obtain one global frequency list."
   ]
  },
  {
   "cell_type": "markdown",
   "metadata": {
    "id": "8ODK21fUTElz"
   },
   "source": [
    "suma wszystkich list aby uzyskać listę globalna"
   ]
  },
  {
   "cell_type": "code",
   "execution_count": null,
   "metadata": {
    "id": "8LywEAlUkFCc"
   },
   "outputs": [],
   "source": [
    "global_frequency = sum(frequency_list, Counter())"
   ]
  },
  {
   "cell_type": "code",
   "execution_count": null,
   "metadata": {
    "colab": {
     "base_uri": "https://localhost:8080/"
    },
    "id": "iiq95VDFkFCc",
    "outputId": "56541ebd-3b06-414f-f2ed-5d90cec04e53"
   },
   "outputs": [
    {
     "data": {
      "text/plain": [
       "[('.', 425044), (',', 333615), ('w', 179767), (')', 97216), ('i', 85377)]"
      ]
     },
     "execution_count": 14,
     "metadata": {},
     "output_type": "execute_result"
    }
   ],
   "source": [
    "global_frequency.most_common(5)"
   ]
  },
  {
   "cell_type": "code",
   "execution_count": null,
   "metadata": {
    "id": "tnRzmOgMTeZp"
   },
   "outputs": [],
   "source": []
  },
  {
   "cell_type": "markdown",
   "metadata": {
    "collapsed": false,
    "id": "Ee9K-NsFkFCd"
   },
   "source": [
    "6. Reject all entries that are shorter than 2 characters or contain non-letter characters (make sure to include Polish diacritics)."
   ]
  },
  {
   "cell_type": "markdown",
   "metadata": {
    "id": "Q6ujUzcvTKk5"
   },
   "source": [
    "Zmniejszenie listy o malo znaczace slowa:\n",
    "\n",
    "shorter than 2 characters -> len(token) > 1\n",
    "\n",
    "non-letter characters -> token.is_alpha"
   ]
  },
  {
   "cell_type": "code",
   "execution_count": null,
   "metadata": {
    "id": "DknxKz5YkFCd"
   },
   "outputs": [],
   "source": [
    "doc_words_only = [[token.text for token in document if len(token) > 1 and token.is_alpha] for document in doc]"
   ]
  },
  {
   "cell_type": "code",
   "execution_count": null,
   "metadata": {
    "id": "3Fs-0f3SkFCd"
   },
   "outputs": [],
   "source": [
    "frequency_list_words = [Counter(doc) for doc in doc_words_only]"
   ]
  },
  {
   "cell_type": "code",
   "execution_count": null,
   "metadata": {
    "id": "q7nihsZtkFCe"
   },
   "outputs": [],
   "source": [
    "global_frequency_list_words  = sum(frequency_list_words, Counter())"
   ]
  },
  {
   "cell_type": "code",
   "execution_count": null,
   "metadata": {
    "colab": {
     "base_uri": "https://localhost:8080/"
    },
    "id": "TSlJufGgkFCe",
    "outputId": "3ab6300e-f336-4e30-ca41-5ebb7f4bedad"
   },
   "outputs": [
    {
     "data": {
      "text/plain": [
       "[('do', 55260), ('ust', 52154), ('art', 51495), ('na', 47624), ('się', 44125)]"
      ]
     },
     "execution_count": 18,
     "metadata": {},
     "output_type": "execute_result"
    }
   ],
   "source": [
    "global_frequency_list_words.most_common(5)"
   ]
  },
  {
   "cell_type": "markdown",
   "metadata": {
    "collapsed": false,
    "id": "QzGoTsz1kFCe"
   },
   "source": [
    "7. Make a plot in a logarithmic scale (for X and Y):"
   ]
  },
  {
   "cell_type": "markdown",
   "metadata": {
    "id": "O6MqbCWrT26C"
   },
   "source": [
    "Przygotowanie wykresu - uwzglednia on top 10 slow aby byl czytelny"
   ]
  },
  {
   "cell_type": "code",
   "execution_count": null,
   "metadata": {
    "colab": {
     "base_uri": "https://localhost:8080/",
     "height": 204
    },
    "id": "nUqPOnw4kFCe",
    "outputId": "17fb55a6-13ab-49e2-d82b-e65c30729eab"
   },
   "outputs": [
    {
     "data": {
      "text/html": [
       "\n",
       "  <div id=\"df-8f5f7f17-b6f2-4ccc-aa07-925356cda0e0\">\n",
       "    <div class=\"colab-df-container\">\n",
       "      <div>\n",
       "<style scoped>\n",
       "    .dataframe tbody tr th:only-of-type {\n",
       "        vertical-align: middle;\n",
       "    }\n",
       "\n",
       "    .dataframe tbody tr th {\n",
       "        vertical-align: top;\n",
       "    }\n",
       "\n",
       "    .dataframe thead th {\n",
       "        text-align: right;\n",
       "    }\n",
       "</style>\n",
       "<table border=\"1\" class=\"dataframe\">\n",
       "  <thead>\n",
       "    <tr style=\"text-align: right;\">\n",
       "      <th></th>\n",
       "      <th>word</th>\n",
       "      <th>count</th>\n",
       "    </tr>\n",
       "  </thead>\n",
       "  <tbody>\n",
       "    <tr>\n",
       "      <th>0</th>\n",
       "      <td>Tekst</td>\n",
       "      <td>190</td>\n",
       "    </tr>\n",
       "    <tr>\n",
       "      <th>1</th>\n",
       "      <td>ustawyprzyjęty</td>\n",
       "      <td>19</td>\n",
       "    </tr>\n",
       "    <tr>\n",
       "      <th>2</th>\n",
       "      <td>przez</td>\n",
       "      <td>19802</td>\n",
       "    </tr>\n",
       "    <tr>\n",
       "      <th>3</th>\n",
       "      <td>Senat</td>\n",
       "      <td>144</td>\n",
       "    </tr>\n",
       "    <tr>\n",
       "      <th>4</th>\n",
       "      <td>bez</td>\n",
       "      <td>2313</td>\n",
       "    </tr>\n",
       "  </tbody>\n",
       "</table>\n",
       "</div>\n",
       "      <button class=\"colab-df-convert\" onclick=\"convertToInteractive('df-8f5f7f17-b6f2-4ccc-aa07-925356cda0e0')\"\n",
       "              title=\"Convert this dataframe to an interactive table.\"\n",
       "              style=\"display:none;\">\n",
       "        \n",
       "  <svg xmlns=\"http://www.w3.org/2000/svg\" height=\"24px\"viewBox=\"0 0 24 24\"\n",
       "       width=\"24px\">\n",
       "    <path d=\"M0 0h24v24H0V0z\" fill=\"none\"/>\n",
       "    <path d=\"M18.56 5.44l.94 2.06.94-2.06 2.06-.94-2.06-.94-.94-2.06-.94 2.06-2.06.94zm-11 1L8.5 8.5l.94-2.06 2.06-.94-2.06-.94L8.5 2.5l-.94 2.06-2.06.94zm10 10l.94 2.06.94-2.06 2.06-.94-2.06-.94-.94-2.06-.94 2.06-2.06.94z\"/><path d=\"M17.41 7.96l-1.37-1.37c-.4-.4-.92-.59-1.43-.59-.52 0-1.04.2-1.43.59L10.3 9.45l-7.72 7.72c-.78.78-.78 2.05 0 2.83L4 21.41c.39.39.9.59 1.41.59.51 0 1.02-.2 1.41-.59l7.78-7.78 2.81-2.81c.8-.78.8-2.07 0-2.86zM5.41 20L4 18.59l7.72-7.72 1.47 1.35L5.41 20z\"/>\n",
       "  </svg>\n",
       "      </button>\n",
       "      \n",
       "  <style>\n",
       "    .colab-df-container {\n",
       "      display:flex;\n",
       "      flex-wrap:wrap;\n",
       "      gap: 12px;\n",
       "    }\n",
       "\n",
       "    .colab-df-convert {\n",
       "      background-color: #E8F0FE;\n",
       "      border: none;\n",
       "      border-radius: 50%;\n",
       "      cursor: pointer;\n",
       "      display: none;\n",
       "      fill: #1967D2;\n",
       "      height: 32px;\n",
       "      padding: 0 0 0 0;\n",
       "      width: 32px;\n",
       "    }\n",
       "\n",
       "    .colab-df-convert:hover {\n",
       "      background-color: #E2EBFA;\n",
       "      box-shadow: 0px 1px 2px rgba(60, 64, 67, 0.3), 0px 1px 3px 1px rgba(60, 64, 67, 0.15);\n",
       "      fill: #174EA6;\n",
       "    }\n",
       "\n",
       "    [theme=dark] .colab-df-convert {\n",
       "      background-color: #3B4455;\n",
       "      fill: #D2E3FC;\n",
       "    }\n",
       "\n",
       "    [theme=dark] .colab-df-convert:hover {\n",
       "      background-color: #434B5C;\n",
       "      box-shadow: 0px 1px 3px 1px rgba(0, 0, 0, 0.15);\n",
       "      filter: drop-shadow(0px 1px 2px rgba(0, 0, 0, 0.3));\n",
       "      fill: #FFFFFF;\n",
       "    }\n",
       "  </style>\n",
       "\n",
       "      <script>\n",
       "        const buttonEl =\n",
       "          document.querySelector('#df-8f5f7f17-b6f2-4ccc-aa07-925356cda0e0 button.colab-df-convert');\n",
       "        buttonEl.style.display =\n",
       "          google.colab.kernel.accessAllowed ? 'block' : 'none';\n",
       "\n",
       "        async function convertToInteractive(key) {\n",
       "          const element = document.querySelector('#df-8f5f7f17-b6f2-4ccc-aa07-925356cda0e0');\n",
       "          const dataTable =\n",
       "            await google.colab.kernel.invokeFunction('convertToInteractive',\n",
       "                                                     [key], {});\n",
       "          if (!dataTable) return;\n",
       "\n",
       "          const docLinkHtml = 'Like what you see? Visit the ' +\n",
       "            '<a target=\"_blank\" href=https://colab.research.google.com/notebooks/data_table.ipynb>data table notebook</a>'\n",
       "            + ' to learn more about interactive tables.';\n",
       "          element.innerHTML = '';\n",
       "          dataTable['output_type'] = 'display_data';\n",
       "          await google.colab.output.renderOutput(dataTable, element);\n",
       "          const docLink = document.createElement('div');\n",
       "          docLink.innerHTML = docLinkHtml;\n",
       "          element.appendChild(docLink);\n",
       "        }\n",
       "      </script>\n",
       "    </div>\n",
       "  </div>\n",
       "  "
      ],
      "text/plain": [
       "             word  count\n",
       "0           Tekst    190\n",
       "1  ustawyprzyjęty     19\n",
       "2           przez  19802\n",
       "3           Senat    144\n",
       "4             bez   2313"
      ]
     },
     "execution_count": 19,
     "metadata": {},
     "output_type": "execute_result"
    }
   ],
   "source": [
    "import pandas as pd\n",
    "df = pd.DataFrame.from_dict(global_frequency_list_words, orient='index').reset_index()\n",
    "df = df.rename(columns={'index':'word', 0:'count'})\n",
    "df.head()"
   ]
  },
  {
   "cell_type": "code",
   "execution_count": null,
   "metadata": {
    "colab": {
     "base_uri": "https://localhost:8080/",
     "height": 359
    },
    "id": "w3FAOt2nkFCf",
    "outputId": "c4fbe696-d17b-4c7d-8eb4-76178411d641"
   },
   "outputs": [
    {
     "data": {
      "text/html": [
       "\n",
       "  <div id=\"df-e4043892-68ef-4217-8226-97a2d6944b1c\">\n",
       "    <div class=\"colab-df-container\">\n",
       "      <div>\n",
       "<style scoped>\n",
       "    .dataframe tbody tr th:only-of-type {\n",
       "        vertical-align: middle;\n",
       "    }\n",
       "\n",
       "    .dataframe tbody tr th {\n",
       "        vertical-align: top;\n",
       "    }\n",
       "\n",
       "    .dataframe thead th {\n",
       "        text-align: right;\n",
       "    }\n",
       "</style>\n",
       "<table border=\"1\" class=\"dataframe\">\n",
       "  <thead>\n",
       "    <tr style=\"text-align: right;\">\n",
       "      <th></th>\n",
       "      <th>word</th>\n",
       "      <th>count</th>\n",
       "    </tr>\n",
       "  </thead>\n",
       "  <tbody>\n",
       "    <tr>\n",
       "      <th>0</th>\n",
       "      <td>do</td>\n",
       "      <td>55260</td>\n",
       "    </tr>\n",
       "    <tr>\n",
       "      <th>1</th>\n",
       "      <td>ust</td>\n",
       "      <td>52154</td>\n",
       "    </tr>\n",
       "    <tr>\n",
       "      <th>2</th>\n",
       "      <td>art</td>\n",
       "      <td>51495</td>\n",
       "    </tr>\n",
       "    <tr>\n",
       "      <th>3</th>\n",
       "      <td>na</td>\n",
       "      <td>47624</td>\n",
       "    </tr>\n",
       "    <tr>\n",
       "      <th>4</th>\n",
       "      <td>się</td>\n",
       "      <td>44125</td>\n",
       "    </tr>\n",
       "    <tr>\n",
       "      <th>5</th>\n",
       "      <td>lub</td>\n",
       "      <td>43923</td>\n",
       "    </tr>\n",
       "    <tr>\n",
       "      <th>6</th>\n",
       "      <td>poz</td>\n",
       "      <td>43214</td>\n",
       "    </tr>\n",
       "    <tr>\n",
       "      <th>7</th>\n",
       "      <td>Nr</td>\n",
       "      <td>41035</td>\n",
       "    </tr>\n",
       "    <tr>\n",
       "      <th>8</th>\n",
       "      <td>oraz</td>\n",
       "      <td>31975</td>\n",
       "    </tr>\n",
       "    <tr>\n",
       "      <th>9</th>\n",
       "      <td>Art</td>\n",
       "      <td>28952</td>\n",
       "    </tr>\n",
       "  </tbody>\n",
       "</table>\n",
       "</div>\n",
       "      <button class=\"colab-df-convert\" onclick=\"convertToInteractive('df-e4043892-68ef-4217-8226-97a2d6944b1c')\"\n",
       "              title=\"Convert this dataframe to an interactive table.\"\n",
       "              style=\"display:none;\">\n",
       "        \n",
       "  <svg xmlns=\"http://www.w3.org/2000/svg\" height=\"24px\"viewBox=\"0 0 24 24\"\n",
       "       width=\"24px\">\n",
       "    <path d=\"M0 0h24v24H0V0z\" fill=\"none\"/>\n",
       "    <path d=\"M18.56 5.44l.94 2.06.94-2.06 2.06-.94-2.06-.94-.94-2.06-.94 2.06-2.06.94zm-11 1L8.5 8.5l.94-2.06 2.06-.94-2.06-.94L8.5 2.5l-.94 2.06-2.06.94zm10 10l.94 2.06.94-2.06 2.06-.94-2.06-.94-.94-2.06-.94 2.06-2.06.94z\"/><path d=\"M17.41 7.96l-1.37-1.37c-.4-.4-.92-.59-1.43-.59-.52 0-1.04.2-1.43.59L10.3 9.45l-7.72 7.72c-.78.78-.78 2.05 0 2.83L4 21.41c.39.39.9.59 1.41.59.51 0 1.02-.2 1.41-.59l7.78-7.78 2.81-2.81c.8-.78.8-2.07 0-2.86zM5.41 20L4 18.59l7.72-7.72 1.47 1.35L5.41 20z\"/>\n",
       "  </svg>\n",
       "      </button>\n",
       "      \n",
       "  <style>\n",
       "    .colab-df-container {\n",
       "      display:flex;\n",
       "      flex-wrap:wrap;\n",
       "      gap: 12px;\n",
       "    }\n",
       "\n",
       "    .colab-df-convert {\n",
       "      background-color: #E8F0FE;\n",
       "      border: none;\n",
       "      border-radius: 50%;\n",
       "      cursor: pointer;\n",
       "      display: none;\n",
       "      fill: #1967D2;\n",
       "      height: 32px;\n",
       "      padding: 0 0 0 0;\n",
       "      width: 32px;\n",
       "    }\n",
       "\n",
       "    .colab-df-convert:hover {\n",
       "      background-color: #E2EBFA;\n",
       "      box-shadow: 0px 1px 2px rgba(60, 64, 67, 0.3), 0px 1px 3px 1px rgba(60, 64, 67, 0.15);\n",
       "      fill: #174EA6;\n",
       "    }\n",
       "\n",
       "    [theme=dark] .colab-df-convert {\n",
       "      background-color: #3B4455;\n",
       "      fill: #D2E3FC;\n",
       "    }\n",
       "\n",
       "    [theme=dark] .colab-df-convert:hover {\n",
       "      background-color: #434B5C;\n",
       "      box-shadow: 0px 1px 3px 1px rgba(0, 0, 0, 0.15);\n",
       "      filter: drop-shadow(0px 1px 2px rgba(0, 0, 0, 0.3));\n",
       "      fill: #FFFFFF;\n",
       "    }\n",
       "  </style>\n",
       "\n",
       "      <script>\n",
       "        const buttonEl =\n",
       "          document.querySelector('#df-e4043892-68ef-4217-8226-97a2d6944b1c button.colab-df-convert');\n",
       "        buttonEl.style.display =\n",
       "          google.colab.kernel.accessAllowed ? 'block' : 'none';\n",
       "\n",
       "        async function convertToInteractive(key) {\n",
       "          const element = document.querySelector('#df-e4043892-68ef-4217-8226-97a2d6944b1c');\n",
       "          const dataTable =\n",
       "            await google.colab.kernel.invokeFunction('convertToInteractive',\n",
       "                                                     [key], {});\n",
       "          if (!dataTable) return;\n",
       "\n",
       "          const docLinkHtml = 'Like what you see? Visit the ' +\n",
       "            '<a target=\"_blank\" href=https://colab.research.google.com/notebooks/data_table.ipynb>data table notebook</a>'\n",
       "            + ' to learn more about interactive tables.';\n",
       "          element.innerHTML = '';\n",
       "          dataTable['output_type'] = 'display_data';\n",
       "          await google.colab.output.renderOutput(dataTable, element);\n",
       "          const docLink = document.createElement('div');\n",
       "          docLink.innerHTML = docLinkHtml;\n",
       "          element.appendChild(docLink);\n",
       "        }\n",
       "      </script>\n",
       "    </div>\n",
       "  </div>\n",
       "  "
      ],
      "text/plain": [
       "   word  count\n",
       "0    do  55260\n",
       "1   ust  52154\n",
       "2   art  51495\n",
       "3    na  47624\n",
       "4   się  44125\n",
       "5   lub  43923\n",
       "6   poz  43214\n",
       "7    Nr  41035\n",
       "8  oraz  31975\n",
       "9   Art  28952"
      ]
     },
     "execution_count": 20,
     "metadata": {},
     "output_type": "execute_result"
    }
   ],
   "source": [
    "df.sort_values(by=['count', 'word'], inplace=True, ascending=False)\n",
    "df.reset_index(inplace=True)\n",
    "df.drop(columns=['index'], inplace=True)\n",
    "df.head(10)"
   ]
  },
  {
   "cell_type": "code",
   "execution_count": null,
   "metadata": {
    "colab": {
     "base_uri": "https://localhost:8080/",
     "height": 685
    },
    "id": "eKRPrQzikFCf",
    "outputId": "4d5a6c4d-b602-433c-bc13-7082bed28247"
   },
   "outputs": [
    {
     "data": {
      "image/png": "[encoded data removed]",
      "text/plain": [
       "<Figure size 1200x800 with 1 Axes>"
      ]
     },
     "metadata": {},
     "output_type": "display_data"
    }
   ],
   "source": [
    "import matplotlib.pyplot as plt\n",
    "\n",
    "plt.figure(figsize=(15, 10), dpi=80)\n",
    "x = df.head(10)['word']\n",
    "y = df.head(10)['count']\n",
    "\n",
    "plt.plot(x, y)\n",
    "\n",
    "plt.xlabel(\"word\")\n",
    "plt.ylabel(\"count\")\n",
    "plt.loglog = True\n",
    "plt.title(\"Rank of top 10 terms\")\n",
    "\n",
    "plt.show()"
   ]
  },
  {
   "cell_type": "code",
   "execution_count": null,
   "metadata": {
    "id": "a267IzaOkFCf"
   },
   "outputs": [],
   "source": []
  },
  {
   "cell_type": "markdown",
   "metadata": {
    "id": "YXL3sc2K6THE"
   },
   "source": [
    "8. Install Morfeusz (Binding dla Pythona) and use it to find all words that do not appear in that dictionary."
   ]
  },
  {
   "cell_type": "markdown",
   "metadata": {
    "id": "lOnzrrlmUaUR"
   },
   "source": [
    "morfeusz.analyse() zwraca liste z informacjami o danym slowie. Jesli morf.analyse()[0][2][2] = \"ign\" oznacza ze slowa nie ma w slowniku"
   ]
  },
  {
   "cell_type": "code",
   "execution_count": null,
   "metadata": {
    "colab": {
     "base_uri": "https://localhost:8080/"
    },
    "id": "oTZ34QLW9uSD",
    "outputId": "f62e6466-66a8-447e-cd2c-76ab7dfe1b94"
   },
   "outputs": [
    {
     "name": "stdout",
     "output_type": "stream",
     "text": [
      "Looking in indexes: https://pypi.org/simple, https://us-python.pkg.dev/colab-wheels/public/simple/\n",
      "Collecting morfeusz2\n",
      "  Downloading morfeusz2-1.99.6-20220925-cp310.cp36.cp37.cp38.cp39-abi3-manylinux2014_x86_64.whl (8.5 MB)\n",
      "\u001B[K     |████████████████████████████████| 8.5 MB 27.1 MB/s \n",
      "\u001B[?25hInstalling collected packages: morfeusz2\n",
      "Successfully installed morfeusz2-1.99.6\n"
     ]
    }
   ],
   "source": [
    "!pip install morfeusz2\n"
   ]
  },
  {
   "cell_type": "code",
   "execution_count": null,
   "metadata": {
    "id": "EbWTkWR-9v0K"
   },
   "outputs": [],
   "source": [
    "import morfeusz2\n",
    "morf = morfeusz2.Morfeusz()"
   ]
  },
  {
   "cell_type": "code",
   "execution_count": null,
   "metadata": {
    "colab": {
     "base_uri": "https://localhost:8080/"
    },
    "id": "giHs5-qzGJxG",
    "outputId": "b779a069-bb7a-47ce-9c6a-763c28434181"
   },
   "outputs": [
    {
     "name": "stdout",
     "output_type": "stream",
     "text": [
      "ign\n"
     ]
    }
   ],
   "source": [
    "print(morf.analyse(u'wher')[0][2][2])"
   ]
  },
  {
   "cell_type": "code",
   "execution_count": null,
   "metadata": {
    "id": "Yi97S-phH3Tn"
   },
   "outputs": [],
   "source": [
    "word_not_in_dic = [[token.text for token in document if len(token) > 1 and token.is_alpha and morf.analyse(token.text)[0][2][2] == \"ign\"] for document in doc]"
   ]
  },
  {
   "cell_type": "markdown",
   "metadata": {
    "id": "7c_J7EeFWxsK"
   },
   "source": [
    "9. Find 30 words with the highest ranks that do not belong to the dictionary."
   ]
  },
  {
   "cell_type": "markdown",
   "source": [
    "Top 30 slow niepoprawnych"
   ],
   "metadata": {
    "id": "mIfm9MYc656K"
   }
  },
  {
   "cell_type": "code",
   "execution_count": null,
   "metadata": {
    "id": "9Z_zkXX3IKSf"
   },
   "outputs": [],
   "source": [
    "frequency_list_words_not_in_dic = [Counter(doc) for doc in word_not_in_dic]\n",
    "global_frequency_list_words_not_in_dic  = sum(frequency_list_words_not_in_dic, Counter())\n",
    "global_frequency_list_words_not_in_dic  = sum(frequency_list_words_not_in_dic, Counter())\n"
   ]
  },
  {
   "cell_type": "code",
   "execution_count": null,
   "metadata": {
    "colab": {
     "base_uri": "https://localhost:8080/"
    },
    "id": "Dlfumu3_WdLJ",
    "outputId": "3ead2098-fcb4-4240-96ef-30002ddaeb63"
   },
   "outputs": [
    {
     "data": {
      "text/plain": [
       "[('poz', 43214),\n",
       " ('późn', 880),\n",
       " ('wust', 599),\n",
       " ('októrych', 539),\n",
       " ('str', 467),\n",
       " ('októrym', 313),\n",
       " ('GMO', 295),\n",
       " ('zdnia', 286),\n",
       " ('Ministerwłaściwy', 286),\n",
       " ('októrej', 239),\n",
       " ('iNr', 215),\n",
       " ('Wustawie', 211),\n",
       " ('napodstawie', 208),\n",
       " ('SWW', 202),\n",
       " ('wprzypadku', 195),\n",
       " ('którychmowa', 195),\n",
       " ('mowaw', 192),\n",
       " ('operacyjno', 190),\n",
       " ('sięnastępujące', 189),\n",
       " ('wzakresie', 180),\n",
       " ('SKW', 169),\n",
       " ('wterminie', 167),\n",
       " ('Wprzypadku', 163),\n",
       " ('IKE', 158),\n",
       " ('MARSZAŁEKSEJMU', 157),\n",
       " ('zostałyogłoszone', 156),\n",
       " ('rolno', 156),\n",
       " ('dodajesię', 151),\n",
       " ('RzeczypospolitejPolskiej', 142),\n",
       " ('ex', 142)]"
      ]
     },
     "execution_count": 31,
     "metadata": {},
     "output_type": "execute_result"
    }
   ],
   "source": [
    "global_frequency_list_words_not_in_dic.most_common(30)"
   ]
  },
  {
   "cell_type": "markdown",
   "metadata": {
    "id": "yYRez_YuWt3W"
   },
   "source": [
    "10. Find 30 random words (i.e. shuffle the words) with 5 occurrences that do not belong to the dictionary."
   ]
  },
  {
   "cell_type": "markdown",
   "source": [
    "szukamy 30 losowych slow o dl.5 niebedacych w slowniku"
   ],
   "metadata": {
    "id": "NP0HfWBk7IPV"
   }
  },
  {
   "cell_type": "code",
   "execution_count": null,
   "metadata": {
    "id": "yD3f5R_8W2pp"
   },
   "outputs": [],
   "source": [
    "five_occ = [(k, v) for k, v in global_frequency_list_words_not_in_dic.items() if v == 5]"
   ]
  },
  {
   "cell_type": "code",
   "execution_count": null,
   "metadata": {
    "id": "eqHnXrUCgX47"
   },
   "outputs": [],
   "source": [
    "import random"
   ]
  },
  {
   "cell_type": "code",
   "execution_count": null,
   "metadata": {
    "colab": {
     "base_uri": "https://localhost:8080/"
    },
    "id": "UX54lG54glw_",
    "outputId": "9f1dd98d-9694-4786-de61-20641f982c24"
   },
   "outputs": [
    {
     "data": {
      "text/plain": [
       "[('wynikającez', 5),\n",
       " ('złożeniefałszywego', 5),\n",
       " ('PrzewodniczącyKomitetu', 5),\n",
       " ('właściwemunaczelnikowi', 5),\n",
       " ('przewidzianychw', 5),\n",
       " ('uzyskaniuzezwolenia', 5),\n",
       " ('latachsłużby', 5),\n",
       " ('przepisyprawa', 5),\n",
       " ('iinformacji', 5),\n",
       " ('izasady', 5),\n",
       " ('zpłatności', 5),\n",
       " ('wyrobówtytoniowych', 5),\n",
       " ('wyrobytytoniowe', 5),\n",
       " ('organwłaściwy', 5),\n",
       " ('odokonanie', 5),\n",
       " ('ustneżądanie', 5),\n",
       " ('porozdziale', 5),\n",
       " ('sięorzeczenia', 5),\n",
       " ('wzamian', 5),\n",
       " ('daneidentyfikujące', 5),\n",
       " ('centralnejewidencji', 5),\n",
       " ('lubd', 5),\n",
       " ('zdaniewstępne', 5),\n",
       " ('iwpłacać', 5),\n",
       " ('składekjest', 5),\n",
       " ('środowiskaokreśli', 5),\n",
       " ('dokońca', 5),\n",
       " ('zostałyuzyskane', 5),\n",
       " ('iżywienia', 5),\n",
       " ('nawykonywanie', 5)]"
      ]
     },
     "execution_count": 35,
     "metadata": {},
     "output_type": "execute_result"
    }
   ],
   "source": [
    "random.shuffle(five_occ)\n",
    "five_occ[:30]"
   ]
  },
  {
   "cell_type": "markdown",
   "metadata": {
    "id": "EbANe9RfdCMS"
   },
   "source": [
    "11. Use Levenshtein distance and the frequency list, to determine the most probable correction of the words from lists defined in points 8 and 9. (Note: You don't have to apply the distance directly. Any method that is more efficient than scanning the dictionary will be appreciated.)"
   ]
  },
  {
   "cell_type": "markdown",
   "source": [
    "uzyta zostala biblioteka editdistance zwracajaca Levenshtein distance pomiedzy 2 slowami. Sa 2 listy zawierajace po 30 blednych slow: top_words_not_in_dic, random_words_not_in_dic dla ktorych nastepnie znajdowane sa poprawniejsze wersje"
   ],
   "metadata": {
    "id": "nD2T6hNp7XKi"
   }
  },
  {
   "cell_type": "markdown",
   "metadata": {
    "id": "e-tddFWPdN3l"
   },
   "source": [
    "points 9 and 10? \n",
    "\n"
   ]
  },
  {
   "cell_type": "code",
   "execution_count": null,
   "metadata": {
    "colab": {
     "base_uri": "https://localhost:8080/"
    },
    "id": "Hglp7LNknLwc",
    "outputId": "9674b513-f727-4df7-e653-f4442ca6ce2c"
   },
   "outputs": [
    {
     "name": "stdout",
     "output_type": "stream",
     "text": [
      "Looking in indexes: https://pypi.org/simple, https://us-python.pkg.dev/colab-wheels/public/simple/\n",
      "Requirement already satisfied: editdistance in /usr/local/lib/python3.7/dist-packages (0.5.3)\n"
     ]
    }
   ],
   "source": [
    "!pip install editdistance"
   ]
  },
  {
   "cell_type": "code",
   "execution_count": null,
   "metadata": {
    "id": "DWxWDts1dNUD"
   },
   "outputs": [],
   "source": [
    "import editdistance"
   ]
  },
  {
   "cell_type": "code",
   "execution_count": null,
   "metadata": {
    "colab": {
     "background_save": true
    },
    "id": "78YuLeXmdCr5"
   },
   "outputs": [],
   "source": [
    "correct_words_in_dic = [[token.text for token in document if len(token) > 1 and token.is_alpha and morf.analyse(token.text)[0][2][2] != \"ign\"] for document in doc]"
   ]
  },
  {
   "cell_type": "code",
   "execution_count": null,
   "metadata": {
    "colab": {
     "background_save": true
    },
    "id": "qRK8xpwQpAnt"
   },
   "outputs": [],
   "source": [
    "correct_words_in_dic = sum(correct_words_in_dic, [])"
   ]
  },
  {
   "cell_type": "code",
   "execution_count": null,
   "metadata": {
    "colab": {
     "background_save": true
    },
    "id": "xWRAqNFepg_e"
   },
   "outputs": [],
   "source": [
    "correct_words_in_dic_unique = list(set(correct_words_in_dic))"
   ]
  },
  {
   "cell_type": "code",
   "execution_count": null,
   "metadata": {
    "colab": {
     "background_save": true
    },
    "id": "1SQlXUe8qV9k"
   },
   "outputs": [],
   "source": [
    "top_words_not_in_dic = [key for key, _ in global_frequency_list_words_not_in_dic.most_common(30)]\n",
    "random_words_not_in_dic = [key for key, _ in five_occ[:30]]"
   ]
  },
  {
   "cell_type": "code",
   "execution_count": null,
   "metadata": {
    "colab": {
     "background_save": true
    },
    "id": "3jQTMEVpsNHf"
   },
   "outputs": [],
   "source": [
    "def word_corrector(incc_words, corr_words):\n",
    "  corrections = []\n",
    "  for incorrect_word in incc_words:\n",
    "    min_distance = 10000\n",
    "    min_word = ''\n",
    "    for correct_word in corr_words:\n",
    "        Levenshtein_distance = editdistance.eval(incorrect_word, correct_word)\n",
    "        if min_distance > Levenshtein_distance:\n",
    "            min_distance = Levenshtein_distance\n",
    "            min_word = correct_word\n",
    "    corrections.append((incorrect_word, min_word))\n",
    "  return corrections"
   ]
  },
  {
   "cell_type": "code",
   "execution_count": null,
   "metadata": {
    "colab": {
     "background_save": true
    },
    "id": "tcxc0I48siX3"
   },
   "outputs": [],
   "source": [
    "top_words_correction = word_corrector(top_words_not_in_dic, correct_words_in_dic)"
   ]
  },
  {
   "cell_type": "code",
   "execution_count": null,
   "metadata": {
    "colab": {
     "background_save": true
    },
    "id": "tIUsDu78srQG"
   },
   "outputs": [],
   "source": [
    "random_words_correction = word_corrector(random_words_not_in_dic, correct_words_in_dic)"
   ]
  },
  {
   "cell_type": "code",
   "execution_count": null,
   "metadata": {
    "colab": {
     "background_save": true
    },
    "id": "mov0OyWms3RE",
    "outputId": "ff4cabf3-12e2-46cf-f884-bcbb444b8b7d"
   },
   "outputs": [
    {
     "data": {
      "text/plain": [
       "[('poz', 'po'),\n",
       " ('późn', 'plan'),\n",
       " ('wust', 'ust'),\n",
       " ('októrych', 'których'),\n",
       " ('str', 'sto'),\n",
       " ('októrym', 'którym'),\n",
       " ('GMO', 'IMO'),\n",
       " ('zdnia', 'dnia'),\n",
       " ('Ministerwłaściwy', 'niewłaściwy'),\n",
       " ('októrej', 'której'),\n",
       " ('iNr', 'Nr'),\n",
       " ('Wustawie', 'ustawie'),\n",
       " ('napodstawie', 'podstawie'),\n",
       " ('SWW', 'WE'),\n",
       " ('wprzypadku', 'przypadku'),\n",
       " ('którychmowa', 'których'),\n",
       " ('mowaw', 'mowa'),\n",
       " ('operacyjno', 'operacyjną'),\n",
       " ('sięnastępujące', 'następujące'),\n",
       " ('wzakresie', 'zakresie'),\n",
       " ('SKW', 'Sąd'),\n",
       " ('wterminie', 'terminie'),\n",
       " ('Wprzypadku', 'przypadku'),\n",
       " ('IKE', 'WE'),\n",
       " ('MARSZAŁEKSEJMU', 'MARSZAŁEK'),\n",
       " ('zostałyogłoszone', 'ogłoszone'),\n",
       " ('rolno', 'rolne'),\n",
       " ('dodajesię', 'dodaje'),\n",
       " ('RzeczypospolitejPolskiej', 'Rzeczypospolitej'),\n",
       " ('ex', 'em')]"
      ]
     },
     "execution_count": 45,
     "metadata": {},
     "output_type": "execute_result"
    }
   ],
   "source": [
    "top_words_correction"
   ]
  },
  {
   "cell_type": "code",
   "execution_count": null,
   "metadata": {
    "colab": {
     "background_save": true
    },
    "id": "fI5_9lzDs5M9",
    "outputId": "08a8d811-14d8-47d3-8ae3-b416bb4797a8"
   },
   "outputs": [
    {
     "data": {
      "text/plain": [
       "[('wynikającez', 'wynikające'),\n",
       " ('złożeniefałszywego', 'fałszywego'),\n",
       " ('PrzewodniczącyKomitetu', 'Przewodniczącymi'),\n",
       " ('właściwemunaczelnikowi', 'właścicielowi'),\n",
       " ('przewidzianychw', 'przewidzianych'),\n",
       " ('uzyskaniuzezwolenia', 'zezwolenia'),\n",
       " ('latachsłużby', 'służby'),\n",
       " ('przepisyprawa', 'przepisywania'),\n",
       " ('iinformacji', 'informacji'),\n",
       " ('izasady', 'zasady'),\n",
       " ('zpłatności', 'płatności'),\n",
       " ('wyrobówtytoniowych', 'tytoniowych'),\n",
       " ('wyrobytytoniowe', 'tytoniowe'),\n",
       " ('organwłaściwy', 'właściwy'),\n",
       " ('odokonanie', 'dokonanie'),\n",
       " ('ustneżądanie', 'żądanie'),\n",
       " ('porozdziale', 'rozdziale'),\n",
       " ('sięorzeczenia', 'orzeczenia'),\n",
       " ('wzamian', 'zamian'),\n",
       " ('daneidentyfikujące', 'identyfikujące'),\n",
       " ('centralnejewidencji', 'centralnej'),\n",
       " ('lubd', 'lub'),\n",
       " ('zdaniewstępne', 'niedostępne'),\n",
       " ('iwpłacać', 'wpłacać'),\n",
       " ('składekjest', 'składek'),\n",
       " ('środowiskaokreśli', 'środowiskowymi'),\n",
       " ('dokońca', 'końca'),\n",
       " ('zostałyuzyskane', 'uzyskane'),\n",
       " ('iżywienia', 'żywienia'),\n",
       " ('nawykonywanie', 'wykonywanie')]"
      ]
     },
     "execution_count": 48,
     "metadata": {},
     "output_type": "execute_result"
    }
   ],
   "source": [
    "random_words_correction"
   ]
  },
  {
   "cell_type": "code",
   "execution_count": null,
   "metadata": {
    "colab": {
     "background_save": true
    },
    "id": "b9cUX_6XwEFB"
   },
   "outputs": [],
   "source": [
    "with open('random_words_to_correct.txt', 'w') as f:\n",
    "    for line in random_words_not_in_dic:\n",
    "        f.write(f\"{line}\\n\")"
   ]
  }
 ],
 "metadata": {
  "colab": {
   "provenance": [],
   "collapsed_sections": []
  },
  "kernelspec": {
   "display_name": "Python 3",
   "language": "python",
   "name": "python3"
  },
  "language_info": {
   "codemirror_mode": {
    "name": "ipython",
    "version": 2
   },
   "file_extension": ".py",
   "mimetype": "text/x-python",
   "name": "python",
   "nbconvert_exporter": "python",
   "pygments_lexer": "ipython2",
   "version": "2.7.6"
  }
 },
 "nbformat": 4,
 "nbformat_minor": 0
}
