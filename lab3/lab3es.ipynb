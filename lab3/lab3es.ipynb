{
 "cells": [
  {
   "cell_type": "markdown",
   "source": [
    "12. Load SGJP dictionary (Słownik SGJP dane tekstowe) to ElasticSearch (one document for each form) and use fuzzy matching to obtain the possible corrections of the 30 words with 5 occurrences that do not belong to the dictionary."
   ],
   "metadata": {
    "collapsed": false
   }
  },
  {
   "cell_type": "code",
   "execution_count": 1,
   "metadata": {
    "collapsed": true
   },
   "outputs": [],
   "source": [
    "from elasticsearch import Elasticsearch\n",
    "from tqdm import tqdm"
   ]
  },
  {
   "cell_type": "code",
   "execution_count": 3,
   "outputs": [],
   "source": [
    "sqjp = '/Users/kuba/PycharmProjects/pythonProject/pjn/sgjp-20221030.text'\n",
    "lines = open(sqjp, 'r', encoding='utf-8').read().split(\"\\n\")\n",
    "sgjp_dict = [line.split()[0].lower() for line in lines if len(line.split())>0]"
   ],
   "metadata": {
    "collapsed": false
   }
  },
  {
   "cell_type": "code",
   "execution_count": 14,
   "outputs": [
    {
     "name": "stderr",
     "output_type": "stream",
     "text": [
      "/var/folders/7q/26ns_sk13xs_c_vf1mhp863h0000gp/T/ipykernel_9745/223447729.py:1: DeprecationWarning: The 'http_auth' parameter is deprecated. Use 'basic_auth' or 'bearer_auth' parameters instead\n",
      "  es = Elasticsearch(['http://localhost:9200'], http_auth=('elastic', 'Yel1*I2azvKlPYFHPj0n\t'))\n"
     ]
    }
   ],
   "source": [
    "es = Elasticsearch(['http://localhost:9200'], http_auth=('elastic', 'Yel1*I2azvKlPYFHPj0n\t'))"
   ],
   "metadata": {
    "collapsed": false
   }
  },
  {
   "cell_type": "code",
   "execution_count": 20,
   "outputs": [
    {
     "name": "stderr",
     "output_type": "stream",
     "text": [
      "/var/folders/7q/26ns_sk13xs_c_vf1mhp863h0000gp/T/ipykernel_9745/413185431.py:1: DeprecationWarning: The 'body' parameter is deprecated and will be removed in a future version. Instead use individual parameters.\n",
      "  res = es.indices.create(\n"
     ]
    },
    {
     "name": "stdout",
     "output_type": "stream",
     "text": [
      "{'acknowledged': True, 'shards_acknowledged': True, 'index': 'lab3_ind'}\n"
     ]
    }
   ],
   "source": [
    "res = es.indices.create(\n",
    "    index=\"lab3_ind\",\n",
    "    body={\n",
    "        \"settings\": {\n",
    "            \"analysis\": {\n",
    "                \"analyzer\": {\n",
    "                    \"analyzer_lab3\": {\n",
    "                        \"type\": \"custom\",\n",
    "                        \"tokenizer\": \"standard\",\n",
    "                        \"filter\": [\n",
    "                            \"lowercase\",\n",
    "                            \"morfologik_stem\"\n",
    "                        ]\n",
    "                    }\n",
    "                }\n",
    "            }\n",
    "        },\n",
    "        \"mappings\": {\n",
    "            \"properties\": {\n",
    "                \"token\": {\n",
    "                    \"type\": \"text\",\n",
    "                    \"analyzer\": \"analyzer_lab3\"\n",
    "                }\n",
    "            }\n",
    "        }\n",
    "    })\n",
    "\n",
    "print(res)"
   ],
   "metadata": {
    "collapsed": false
   }
  },
  {
   "cell_type": "markdown",
   "source": [
    "Ładowanie do indexu przez bulk"
   ],
   "metadata": {
    "collapsed": false
   }
  },
  {
   "cell_type": "code",
   "execution_count": null,
   "outputs": [],
   "source": [
    "body = []\n",
    "temp = 0\n",
    "with tqdm(total=len(sgjp_dict)) as pbar:\n",
    "    for word in sgjp_dict:\n",
    "        body.append(({'index': {}}))\n",
    "        body.append({\"token\": word})\n",
    "        #temp+=1\n",
    "        pbar.update(1)\n",
    "        if pbar.n % 10000 == 0:\n",
    "        #if temp % 5000 == 0:\n",
    "            res= es.bulk(index=\"lab3_ind\", body=body, request_timeout=30)\n",
    "            body = []"
   ],
   "metadata": {
    "collapsed": false,
    "pycharm": {
     "is_executing": true
    }
   }
  },
  {
   "cell_type": "markdown",
   "source": [
    "30 tych samych losowych slow"
   ],
   "metadata": {
    "collapsed": false
   }
  },
  {
   "cell_type": "code",
   "execution_count": 80,
   "outputs": [],
   "source": [
    "\n",
    "words_to_correct = [('wynikającez', 'wynikające'),\n",
    " ('złożeniefałszywego', 'fałszywego'),\n",
    " ('PrzewodniczącyKomitetu', 'Przewodniczącymi'),\n",
    " ('właściwemunaczelnikowi', 'właścicielowi'),\n",
    " ('przewidzianychw', 'przewidzianych'),\n",
    " ('uzyskaniuzezwolenia', 'zezwolenia'),\n",
    " ('latachsłużby', 'służby'),\n",
    " ('przepisyprawa', 'przepisywania'),\n",
    " ('iinformacji', 'informacji'),\n",
    " ('izasady', 'zasady'),\n",
    " ('zpłatności', 'płatności'),\n",
    " ('wyrobówtytoniowych', 'tytoniowych'),\n",
    " ('wyrobytytoniowe', 'tytoniowe'),\n",
    " ('organwłaściwy', 'właściwy'),\n",
    " ('odokonanie', 'dokonanie'),\n",
    " ('ustneżądanie', 'żądanie'),\n",
    " ('porozdziale', 'rozdziale'),\n",
    " ('sięorzeczenia', 'orzeczenia'),\n",
    " ('wzamian', 'zamian'),\n",
    " ('daneidentyfikujące', 'identyfikujące'),\n",
    " ('centralnejewidencji', 'centralnej'),\n",
    " ('lubd', 'lub'),\n",
    " ('zdaniewstępne', 'niedostępne'),\n",
    " ('iwpłacać', 'wpłacać'),\n",
    " ('składekjest', 'składek'),\n",
    " ('środowiskaokreśli', 'środowiskowymi'),\n",
    " ('dokońca', 'końca'),\n",
    " ('zostałyuzyskane', 'uzyskane'),\n",
    " ('iżywienia', 'żywienia'),\n",
    " ('nawykonywanie', 'wykonywanie')]"
   ],
   "metadata": {
    "collapsed": false
   }
  },
  {
   "cell_type": "code",
   "execution_count": 81,
   "outputs": [],
   "source": [
    "words_to_correct = [[el for el in i] for i in words_to_correct]\n",
    "words_to_correct = sum(words_to_correct, [])\n",
    "Levenshtein_distance_corrections = words_to_correct[1::2]\n",
    "del words_to_correct[1::2]"
   ],
   "metadata": {
    "collapsed": false
   }
  },
  {
   "cell_type": "code",
   "execution_count": 82,
   "outputs": [
    {
     "data": {
      "text/plain": "['wynikającez',\n 'złożeniefałszywego',\n 'PrzewodniczącyKomitetu',\n 'właściwemunaczelnikowi',\n 'przewidzianychw',\n 'uzyskaniuzezwolenia',\n 'latachsłużby',\n 'przepisyprawa',\n 'iinformacji',\n 'izasady',\n 'zpłatności',\n 'wyrobówtytoniowych',\n 'wyrobytytoniowe',\n 'organwłaściwy',\n 'odokonanie',\n 'ustneżądanie',\n 'porozdziale',\n 'sięorzeczenia',\n 'wzamian',\n 'daneidentyfikujące',\n 'centralnejewidencji',\n 'lubd',\n 'zdaniewstępne',\n 'iwpłacać',\n 'składekjest',\n 'środowiskaokreśli',\n 'dokońca',\n 'zostałyuzyskane',\n 'iżywienia',\n 'nawykonywanie']"
     },
     "execution_count": 82,
     "metadata": {},
     "output_type": "execute_result"
    }
   ],
   "source": [
    "words_to_correct"
   ],
   "metadata": {
    "collapsed": false
   }
  },
  {
   "cell_type": "markdown",
   "source": [
    "szukanie ich poprawnych wersji"
   ],
   "metadata": {
    "collapsed": false
   }
  },
  {
   "cell_type": "code",
   "execution_count": 77,
   "outputs": [
    {
     "name": "stderr",
     "output_type": "stream",
     "text": [
      "/var/folders/7q/26ns_sk13xs_c_vf1mhp863h0000gp/T/ipykernel_9745/4285723088.py:14: DeprecationWarning: The 'body' parameter is deprecated and will be removed in a future version. Instead use individual parameters.\n",
      "  res = es.search(index='lab3_ind',body=query)[\"hits\"]\n"
     ]
    }
   ],
   "source": [
    "corrections = []\n",
    "for word in words_to_correct:\n",
    "    query = {\n",
    "        \"query\": {\n",
    "            \"fuzzy\": {\n",
    "                \"token\": {\n",
    "                    \"value\": word,\n",
    "                    \"fuzziness\": \"AUTO\",\n",
    "                    \"max_expansions\": 10000,\n",
    "                }\n",
    "            }\n",
    "        }\n",
    "    }\n",
    "    res = es.search(index='lab3_ind',body=query)[\"hits\"]\n",
    "    try:\n",
    "        corrections.append(res['hits'][0]['_source']['token'])\n",
    "    except:\n",
    "        corrections.append(\"no correction\")"
   ],
   "metadata": {
    "collapsed": false
   }
  },
  {
   "cell_type": "code",
   "execution_count": 78,
   "outputs": [],
   "source": [
    "dictionary = dict(zip(words_to_correct, corrections))"
   ],
   "metadata": {
    "collapsed": false
   }
  },
  {
   "cell_type": "code",
   "execution_count": 79,
   "outputs": [
    {
     "data": {
      "text/plain": "{'wynikającez': 'wynikająco',\n 'złożeniefałszywego': 'no correction',\n 'PrzewodniczącyKomitetu': 'no correction',\n 'właściwemunaczelnikowi': 'no correction',\n 'przewidzianychw': 'no correction',\n 'uzyskaniuzezwolenia': 'no correction',\n 'latachsłużby': 'no correction',\n 'przepisyprawa': 'no correction',\n 'iinformacji': 'informacja',\n 'izasady': 'zasadna',\n 'zpłatności': 'no correction',\n 'wyrobówtytoniowych': 'no correction',\n 'wyrobytytoniowe': 'no correction',\n 'organwłaściwy': 'no correction',\n 'odokonanie': 'dokonania',\n 'ustneżądanie': 'no correction',\n 'porozdziale': 'no correction',\n 'sięorzeczenia': 'no correction',\n 'wzamian': 'zamian',\n 'daneidentyfikujące': 'no correction',\n 'centralnejewidencji': 'no correction',\n 'lubd': 'luba',\n 'zdaniewstępne': 'no correction',\n 'iwpłacać': 'niewpłacająca',\n 'składekjest': 'no correction',\n 'środowiskaokreśli': 'no correction',\n 'dokońca': 'bokińca',\n 'zostałyuzyskane': 'no correction',\n 'iżywienia': 'ożywienia',\n 'nawykonywanie': 'no correction'}"
     },
     "execution_count": 79,
     "metadata": {},
     "output_type": "execute_result"
    }
   ],
   "source": [
    "dictionary"
   ],
   "metadata": {
    "collapsed": false
   }
  },
  {
   "cell_type": "markdown",
   "source": [
    "13. Compare the results of your algorithm and output of ES."
   ],
   "metadata": {
    "collapsed": false
   }
  },
  {
   "cell_type": "code",
   "execution_count": 84,
   "outputs": [],
   "source": [
    "import pandas as pd\n",
    "dt = pd.DataFrame(list(zip(words_to_correct, Levenshtein_distance_corrections, corrections)), columns=['words to correct', 'LD', 'ES'])"
   ],
   "metadata": {
    "collapsed": false
   }
  },
  {
   "cell_type": "code",
   "execution_count": 85,
   "outputs": [
    {
     "data": {
      "text/plain": "          words to correct                LD             ES\n0              wynikającez        wynikające     wynikająco\n1       złożeniefałszywego        fałszywego  no correction\n2   PrzewodniczącyKomitetu  Przewodniczącymi  no correction\n3   właściwemunaczelnikowi     właścicielowi  no correction\n4          przewidzianychw    przewidzianych  no correction\n5      uzyskaniuzezwolenia        zezwolenia  no correction\n6             latachsłużby            służby  no correction\n7            przepisyprawa     przepisywania  no correction\n8              iinformacji        informacji     informacja\n9                  izasady            zasady        zasadna\n10              zpłatności         płatności  no correction\n11      wyrobówtytoniowych       tytoniowych  no correction\n12         wyrobytytoniowe         tytoniowe  no correction\n13           organwłaściwy          właściwy  no correction\n14              odokonanie         dokonanie      dokonania\n15            ustneżądanie           żądanie  no correction\n16             porozdziale         rozdziale  no correction\n17           sięorzeczenia        orzeczenia  no correction\n18                 wzamian            zamian         zamian\n19      daneidentyfikujące    identyfikujące  no correction\n20     centralnejewidencji        centralnej  no correction\n21                    lubd               lub           luba\n22           zdaniewstępne       niedostępne  no correction\n23                iwpłacać           wpłacać  niewpłacająca\n24             składekjest           składek  no correction\n25       środowiskaokreśli    środowiskowymi  no correction\n26                 dokońca             końca        bokińca\n27         zostałyuzyskane          uzyskane  no correction\n28               iżywienia          żywienia      ożywienia\n29           nawykonywanie       wykonywanie  no correction",
      "text/html": "<div>\n<style scoped>\n    .dataframe tbody tr th:only-of-type {\n        vertical-align: middle;\n    }\n\n    .dataframe tbody tr th {\n        vertical-align: top;\n    }\n\n    .dataframe thead th {\n        text-align: right;\n    }\n</style>\n<table border=\"1\" class=\"dataframe\">\n  <thead>\n    <tr style=\"text-align: right;\">\n      <th></th>\n      <th>words to correct</th>\n      <th>LD</th>\n      <th>ES</th>\n    </tr>\n  </thead>\n  <tbody>\n    <tr>\n      <th>0</th>\n      <td>wynikającez</td>\n      <td>wynikające</td>\n      <td>wynikająco</td>\n    </tr>\n    <tr>\n      <th>1</th>\n      <td>złożeniefałszywego</td>\n      <td>fałszywego</td>\n      <td>no correction</td>\n    </tr>\n    <tr>\n      <th>2</th>\n      <td>PrzewodniczącyKomitetu</td>\n      <td>Przewodniczącymi</td>\n      <td>no correction</td>\n    </tr>\n    <tr>\n      <th>3</th>\n      <td>właściwemunaczelnikowi</td>\n      <td>właścicielowi</td>\n      <td>no correction</td>\n    </tr>\n    <tr>\n      <th>4</th>\n      <td>przewidzianychw</td>\n      <td>przewidzianych</td>\n      <td>no correction</td>\n    </tr>\n    <tr>\n      <th>5</th>\n      <td>uzyskaniuzezwolenia</td>\n      <td>zezwolenia</td>\n      <td>no correction</td>\n    </tr>\n    <tr>\n      <th>6</th>\n      <td>latachsłużby</td>\n      <td>służby</td>\n      <td>no correction</td>\n    </tr>\n    <tr>\n      <th>7</th>\n      <td>przepisyprawa</td>\n      <td>przepisywania</td>\n      <td>no correction</td>\n    </tr>\n    <tr>\n      <th>8</th>\n      <td>iinformacji</td>\n      <td>informacji</td>\n      <td>informacja</td>\n    </tr>\n    <tr>\n      <th>9</th>\n      <td>izasady</td>\n      <td>zasady</td>\n      <td>zasadna</td>\n    </tr>\n    <tr>\n      <th>10</th>\n      <td>zpłatności</td>\n      <td>płatności</td>\n      <td>no correction</td>\n    </tr>\n    <tr>\n      <th>11</th>\n      <td>wyrobówtytoniowych</td>\n      <td>tytoniowych</td>\n      <td>no correction</td>\n    </tr>\n    <tr>\n      <th>12</th>\n      <td>wyrobytytoniowe</td>\n      <td>tytoniowe</td>\n      <td>no correction</td>\n    </tr>\n    <tr>\n      <th>13</th>\n      <td>organwłaściwy</td>\n      <td>właściwy</td>\n      <td>no correction</td>\n    </tr>\n    <tr>\n      <th>14</th>\n      <td>odokonanie</td>\n      <td>dokonanie</td>\n      <td>dokonania</td>\n    </tr>\n    <tr>\n      <th>15</th>\n      <td>ustneżądanie</td>\n      <td>żądanie</td>\n      <td>no correction</td>\n    </tr>\n    <tr>\n      <th>16</th>\n      <td>porozdziale</td>\n      <td>rozdziale</td>\n      <td>no correction</td>\n    </tr>\n    <tr>\n      <th>17</th>\n      <td>sięorzeczenia</td>\n      <td>orzeczenia</td>\n      <td>no correction</td>\n    </tr>\n    <tr>\n      <th>18</th>\n      <td>wzamian</td>\n      <td>zamian</td>\n      <td>zamian</td>\n    </tr>\n    <tr>\n      <th>19</th>\n      <td>daneidentyfikujące</td>\n      <td>identyfikujące</td>\n      <td>no correction</td>\n    </tr>\n    <tr>\n      <th>20</th>\n      <td>centralnejewidencji</td>\n      <td>centralnej</td>\n      <td>no correction</td>\n    </tr>\n    <tr>\n      <th>21</th>\n      <td>lubd</td>\n      <td>lub</td>\n      <td>luba</td>\n    </tr>\n    <tr>\n      <th>22</th>\n      <td>zdaniewstępne</td>\n      <td>niedostępne</td>\n      <td>no correction</td>\n    </tr>\n    <tr>\n      <th>23</th>\n      <td>iwpłacać</td>\n      <td>wpłacać</td>\n      <td>niewpłacająca</td>\n    </tr>\n    <tr>\n      <th>24</th>\n      <td>składekjest</td>\n      <td>składek</td>\n      <td>no correction</td>\n    </tr>\n    <tr>\n      <th>25</th>\n      <td>środowiskaokreśli</td>\n      <td>środowiskowymi</td>\n      <td>no correction</td>\n    </tr>\n    <tr>\n      <th>26</th>\n      <td>dokońca</td>\n      <td>końca</td>\n      <td>bokińca</td>\n    </tr>\n    <tr>\n      <th>27</th>\n      <td>zostałyuzyskane</td>\n      <td>uzyskane</td>\n      <td>no correction</td>\n    </tr>\n    <tr>\n      <th>28</th>\n      <td>iżywienia</td>\n      <td>żywienia</td>\n      <td>ożywienia</td>\n    </tr>\n    <tr>\n      <th>29</th>\n      <td>nawykonywanie</td>\n      <td>wykonywanie</td>\n      <td>no correction</td>\n    </tr>\n  </tbody>\n</table>\n</div>"
     },
     "execution_count": 85,
     "metadata": {},
     "output_type": "execute_result"
    }
   ],
   "source": [
    "dt"
   ],
   "metadata": {
    "collapsed": false
   }
  },
  {
   "cell_type": "markdown",
   "source": [
    "14 .Draw conclusions regarding:"
   ],
   "metadata": {
    "collapsed": false
   }
  },
  {
   "cell_type": "markdown",
   "source": [],
   "metadata": {
    "collapsed": false
   }
  },
  {
   "cell_type": "markdown",
   "source": [
    "the number of true misspellings vs. the number of unknown words\n",
    "\n",
    "Przy uzyciu metody z Levenshtein distance znajdywało polaczenie z najbardziej prawdopodobnym slowem dlatego nie ma zadnych slow nieznanych. W ES jest to 21 slow."
   ],
   "metadata": {
    "collapsed": false
   }
  },
  {
   "cell_type": "markdown",
   "source": [
    "the performance of your method compared to ElasticSearch\n",
    "\n",
    "ElasticSearch wyszukuje poprawień dużo szybciej"
   ],
   "metadata": {
    "collapsed": false
   }
  },
  {
   "cell_type": "markdown",
   "source": [
    "the results provided by your method compared to ElasticSearch\n",
    "\n",
    "W metodzie z uzyciem Levenshtein distance wszystkie slowa znalazly jakies poprawne wersje w ES wiekszosc nie zostala poprawiona\n"
   ],
   "metadata": {
    "collapsed": false
   }
  },
  {
   "cell_type": "markdown",
   "source": [],
   "metadata": {
    "collapsed": false
   }
  }
 ],
 "metadata": {
  "kernelspec": {
   "display_name": "Python 3",
   "language": "python",
   "name": "python3"
  },
  "language_info": {
   "codemirror_mode": {
    "name": "ipython",
    "version": 2
   },
   "file_extension": ".py",
   "mimetype": "text/x-python",
   "name": "python",
   "nbconvert_exporter": "python",
   "pygments_lexer": "ipython2",
   "version": "2.7.6"
  }
 },
 "nbformat": 4,
 "nbformat_minor": 0
}
