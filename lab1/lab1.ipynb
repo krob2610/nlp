{
 "cells": [
  {
   "cell_type": "markdown",
   "metadata": {},
   "source": [
    "Wstepene przygotowania do wykonania zadania"
   ]
  },
  {
   "cell_type": "code",
   "execution_count": 1,
   "metadata": {
    "collapsed": true
   },
   "outputs": [],
   "source": [
    "import pandas as pd\n",
    "import os\n",
    "import re\n",
    "from functions import *\n"
   ]
  },
  {
   "cell_type": "markdown",
   "metadata": {},
   "source": [
    "Tutaj pliki textowe są wczytywane do listy. Trzeba usunąć nowe linie oraz /xa0 (non-breaking space in Latin1)"
   ]
  },
  {
   "cell_type": "code",
   "execution_count": 2,
   "metadata": {},
   "outputs": [
    {
     "ename": "UnicodeDecodeError",
     "evalue": "'utf-8' codec can't decode byte 0xc4 in position 10: invalid continuation byte",
     "output_type": "error",
     "traceback": [
      "\u001B[0;31m---------------------------------------------------------------------------\u001B[0m",
      "\u001B[0;31mUnicodeDecodeError\u001B[0m                        Traceback (most recent call last)",
      "Input \u001B[0;32mIn [2]\u001B[0m, in \u001B[0;36m<cell line: 5>\u001B[0;34m()\u001B[0m\n\u001B[1;32m      5\u001B[0m \u001B[38;5;28;01mfor\u001B[39;00m file \u001B[38;5;129;01min\u001B[39;00m os\u001B[38;5;241m.\u001B[39mlistdir(path):\n\u001B[1;32m      6\u001B[0m     \u001B[38;5;66;03m# Check whether file is in text format or not\u001B[39;00m\n\u001B[1;32m      7\u001B[0m     file_path \u001B[38;5;241m=\u001B[39m \u001B[38;5;124mf\u001B[39m\u001B[38;5;124m\"\u001B[39m\u001B[38;5;132;01m{\u001B[39;00mpath\u001B[38;5;132;01m}\u001B[39;00m\u001B[38;5;124m/\u001B[39m\u001B[38;5;132;01m{\u001B[39;00mfile\u001B[38;5;132;01m}\u001B[39;00m\u001B[38;5;124m\"\u001B[39m\n\u001B[0;32m----> 8\u001B[0m     temp \u001B[38;5;241m=\u001B[39m \u001B[43mread_text_file\u001B[49m\u001B[43m(\u001B[49m\u001B[43mfile_path\u001B[49m\u001B[43m)\u001B[49m\u001B[38;5;241m.\u001B[39mreplace(\u001B[38;5;124m'\u001B[39m\u001B[38;5;130;01m\\n\u001B[39;00m\u001B[38;5;124m'\u001B[39m,\u001B[38;5;124m'\u001B[39m\u001B[38;5;124m \u001B[39m\u001B[38;5;124m'\u001B[39m)\n\u001B[1;32m      9\u001B[0m     articles_list\u001B[38;5;241m.\u001B[39mappend(temp\u001B[38;5;241m.\u001B[39mreplace(\u001B[38;5;124m'\u001B[39m\u001B[38;5;130;01m\\xa0\u001B[39;00m\u001B[38;5;124m'\u001B[39m, \u001B[38;5;124m'\u001B[39m\u001B[38;5;124m'\u001B[39m))\n\u001B[1;32m     10\u001B[0m     articles_name\u001B[38;5;241m.\u001B[39mappend(file)\n",
      "File \u001B[0;32m~/PycharmProjects/pythonProject/pjn/functions.py:3\u001B[0m, in \u001B[0;36mread_text_file\u001B[0;34m(file_path)\u001B[0m\n\u001B[1;32m      1\u001B[0m \u001B[38;5;28;01mdef\u001B[39;00m \u001B[38;5;21mread_text_file\u001B[39m(file_path):\n\u001B[1;32m      2\u001B[0m     \u001B[38;5;28;01mwith\u001B[39;00m \u001B[38;5;28mopen\u001B[39m(file_path, \u001B[38;5;124m'\u001B[39m\u001B[38;5;124mr\u001B[39m\u001B[38;5;124m'\u001B[39m) \u001B[38;5;28;01mas\u001B[39;00m f:\n\u001B[0;32m----> 3\u001B[0m         \u001B[38;5;28;01mreturn\u001B[39;00m \u001B[43mf\u001B[49m\u001B[38;5;241;43m.\u001B[39;49m\u001B[43mread\u001B[49m\u001B[43m(\u001B[49m\u001B[43m)\u001B[49m\u001B[38;5;241m.\u001B[39mreplace(\u001B[38;5;124m'\u001B[39m\u001B[38;5;130;01m\\n\u001B[39;00m\u001B[38;5;124m'\u001B[39m, \u001B[38;5;124m'\u001B[39m\u001B[38;5;124m'\u001B[39m)\n",
      "File \u001B[0;32m~/opt/anaconda3/envs/studia/lib/python3.9/codecs.py:322\u001B[0m, in \u001B[0;36mBufferedIncrementalDecoder.decode\u001B[0;34m(self, input, final)\u001B[0m\n\u001B[1;32m    319\u001B[0m \u001B[38;5;28;01mdef\u001B[39;00m \u001B[38;5;21mdecode\u001B[39m(\u001B[38;5;28mself\u001B[39m, \u001B[38;5;28minput\u001B[39m, final\u001B[38;5;241m=\u001B[39m\u001B[38;5;28;01mFalse\u001B[39;00m):\n\u001B[1;32m    320\u001B[0m     \u001B[38;5;66;03m# decode input (taking the buffer into account)\u001B[39;00m\n\u001B[1;32m    321\u001B[0m     data \u001B[38;5;241m=\u001B[39m \u001B[38;5;28mself\u001B[39m\u001B[38;5;241m.\u001B[39mbuffer \u001B[38;5;241m+\u001B[39m \u001B[38;5;28minput\u001B[39m\n\u001B[0;32m--> 322\u001B[0m     (result, consumed) \u001B[38;5;241m=\u001B[39m \u001B[38;5;28;43mself\u001B[39;49m\u001B[38;5;241;43m.\u001B[39;49m\u001B[43m_buffer_decode\u001B[49m\u001B[43m(\u001B[49m\u001B[43mdata\u001B[49m\u001B[43m,\u001B[49m\u001B[43m \u001B[49m\u001B[38;5;28;43mself\u001B[39;49m\u001B[38;5;241;43m.\u001B[39;49m\u001B[43merrors\u001B[49m\u001B[43m,\u001B[49m\u001B[43m \u001B[49m\u001B[43mfinal\u001B[49m\u001B[43m)\u001B[49m\n\u001B[1;32m    323\u001B[0m     \u001B[38;5;66;03m# keep undecoded input until the next call\u001B[39;00m\n\u001B[1;32m    324\u001B[0m     \u001B[38;5;28mself\u001B[39m\u001B[38;5;241m.\u001B[39mbuffer \u001B[38;5;241m=\u001B[39m data[consumed:]\n",
      "\u001B[0;31mUnicodeDecodeError\u001B[0m: 'utf-8' codec can't decode byte 0xc4 in position 10: invalid continuation byte"
     ]
    }
   ],
   "source": [
    "\n",
    "articles_list = []\n",
    "articles_name = []\n",
    "\n",
    "path = \"ustawy\"\n",
    "for file in os.listdir(path):\n",
    "    # Check whether file is in text format or not\n",
    "    file_path = f\"{path}/{file}\"\n",
    "    temp = read_text_file(file_path).replace('\\n',' ')\n",
    "    articles_list.append(temp.replace('\\xa0', ''))\n",
    "    articles_name.append(file)"
   ]
  },
  {
   "cell_type": "markdown",
   "metadata": {},
   "source": [
    "Task 1"
   ]
  },
  {
   "cell_type": "markdown",
   "metadata": {},
   "source": [
    "W 3 pierwszych komórkach sprawdzane są sufixy mogący występować z wyrażeniami"
   ]
  },
  {
   "cell_type": "code",
   "execution_count": 8,
   "metadata": {},
   "outputs": [
    {
     "name": "stdout",
     "output_type": "stream",
     "text": [
      "['wyrazy', 'pkt', 'ust', 'art', 'pkt4', 'lit', 'wyraz', 'załącznik', 'rozdział', 'zdanie', 'dział', 'tytuł', 'przecinek', 'oznaczenie', 'drugie', 'użyte', 'Rozdział', 'pkt2a', 'nowy', 'pkt9a', 'przecineki', 'pkt1a', 'wyrazySrad', 'określenie', 'pkt10', 'na', 'rozdziały', 'średnik', 'pkt28', 'pkt8', 'dwukrotnie', 'trzykrotnie', 'w', 'poz', 'usta', 'pkt20', 'nowe', '2a', 'pkt133', 'kropkę', 'oddział', 'kwotę', 'cyfrę', 'zdania', '38a', 'po', 'pkt5a', 'odnośnik', 'lp', 'tiret', 'pozycję', 'pozycjęw', 'pkt13a', 'pkt17', 'pkt6', 'litery', 'trzecie', 'zadanie', 'ozna', 'użyty', 'dwukropek', 'Oddział', 'wraz']\n"
     ]
    }
   ],
   "source": [
    "\n",
    "add_sufix = [re.findall('(?<=dodaje się )\\w+', art) for art in articles_list]\n",
    "add_sufix = sum(add_sufix, [])\n",
    "#print(add_sufix)\n",
    "\n",
    "add_sufix = list(dict.fromkeys(add_sufix))\n",
    "print(add_sufix)\n",
    "\n"
   ]
  },
  {
   "cell_type": "code",
   "execution_count": 14,
   "metadata": {},
   "outputs": [
    {
     "name": "stdout",
     "output_type": "stream",
     "text": [
      "['ust', 'kropkę', 'zdanie', 'art', 'wyrazy', 'pkt', 'wyraz', 'oznaczenie', 'przecinek', 'rozdział', 'lit', 'użyty', 'zdaniedrugie', 'i', 'dział', 'użyte', 'z', 'tytuł', 'oddział', 'na', '1', 'pkt7', 'powołanie', 'Dział', 'oraz', 'preambułę', 'pozostałą', 'poz', 'rozdziały', 'w', 'załącznik', 'zdanietrzecie', 'ostatnie', 'drugie', 'zewidencji', 'przyimek']\n",
      "['ust', 'zdanie', 'pkt', 'pkt4r', 'art', 'rozdział', 'lit', 'od', 'decyzję', 'pkt18', 'pkt33', 'pkt39', 'pkt7', 'z', 'pkt1', 'pkt6', 'pkt51', 'w', 'dział', 'pkt2', 'odspełnienia', 'odzłożenia', 'tytułVIII', 'tiret', 'decyzje', 'ustawę', 'pkt4', 'pkt10', 'pkt20', 'odnośnik', 'pkt5', 'poz', 'niezwłocznie', 'lub', 'zdanietrzecie']\n"
     ]
    }
   ],
   "source": [
    "remove_sufix = [re.findall('(?<=skreśla się )\\w+', art) for art in articles_list]\n",
    "remove_sufix = sum(remove_sufix, [])\n",
    "#print(add_sufix)\n",
    "\n",
    "remove_sufix = list(dict.fromkeys(remove_sufix))\n",
    "print(remove_sufix)\n",
    "\n",
    "remove_sufix = [re.findall('(?<=uchyla się )\\w+', art) for art in articles_list]\n",
    "remove_sufix = sum(remove_sufix, [])\n",
    "#print(add_sufix)\n",
    "\n",
    "\n",
    "remove_sufix = list(dict.fromkeys(remove_sufix))\n",
    "print(remove_sufix)"
   ]
  },
  {
   "cell_type": "code",
   "execution_count": 20,
   "metadata": {},
   "outputs": [
    {
     "name": "stdout",
     "output_type": "stream",
     "text": [
      "[('pkt', '2'), ('art.', '21'), ('pkt', '5'), ('pkt', '8'), ('pkt', '11'), ('ust.', '3'), ('ust.', '4'), ('art.', '5'), ('ust.', '5'), ('ust.', '1'), ('art.', '10'), ('art.', '13'), ('art.', '14'), ('art.', '15'), ('art.', '16'), ('art.', '17'), ('art.', '19'), ('pkt', '4'), ('ust.', '2'), ('ust.', '8'), ('pkt', '3')]\n"
     ]
    }
   ],
   "source": [
    "change_sufix = [re.findall('(\\S+)\\s*(\\S+)\\s*(?=\\s+otrzymuje brzmienie)', art) for art in articles_list[:5]]\n",
    "change_sufix = sum(change_sufix, [])\n",
    "#print(add_sufix)\n",
    "\n",
    "change_sufix = list(dict.fromkeys(change_sufix))\n",
    "print(change_sufix)\n"
   ]
  },
  {
   "cell_type": "markdown",
   "metadata": {},
   "source": [
    "W poniższej komórce wpisywane jest liczba wystąpień każdej z operacji dla każdego pliku"
   ]
  },
  {
   "cell_type": "code",
   "execution_count": 185,
   "metadata": {},
   "outputs": [],
   "source": [
    "article_addition = []\n",
    "article_removal = []\n",
    "article_change = []\n",
    "for art in articles_list:\n",
    "    article_addition.append(len(re.findall(r\"\\bdodaje\\s*się\\s*(ust|pkt\\w+|art|rozdział|lit|dział|poz)\\b\", art, re.IGNORECASE))) #tu whitespace tu w słowniku tylko\n",
    "    article_removal.append(len(re.findall(r\"\\b(skreśla|uchyla)\\s*się\\s*(ust|pkt\\w+|art|rozdział|lit|dział|poz)\\b\", art, re.IGNORECASE)))        #uchyla się\n",
    "    article_change.append(len(re.findall(r\"\\botrzymuje brzmienie\\b\", art, re.IGNORECASE)))\n"
   ]
  },
  {
   "cell_type": "markdown",
   "metadata": {},
   "source": [
    "Task3"
   ]
  },
  {
   "cell_type": "markdown",
   "metadata": {},
   "source": [
    "W poniższej komórce są wypisywane daty z których pochodzi dana ustawa. Zachowana jest kolejność. Niektóre pliki mają zawartość \"Brak tekstu w postaci elektronicznej \" wtedy zapisuje je jako \"brak danych\""
   ]
  },
  {
   "cell_type": "code",
   "execution_count": 191,
   "metadata": {},
   "outputs": [],
   "source": [
    "article_year = []\n",
    "i = 0\n",
    "for art in articles_list:\n",
    "    if art == \"Brak tekstu w postaci elektronicznej \":\n",
    "        article_year.append(\"brak danych\")\n",
    "    else:\n",
    "        temp = (re.search(r\"((USTAWA|U S T A W A|\\S*Ustawa|USTAWA\\s*\\w+\\s* NA ROK \\d\\d\\d\\d|USTAWA\\s*\\w+\\s*)\\s*z\\s*dnia)(\\s*\\d+\\s*\\w+\\s*)(\\d\\d\\d\\d)(?=\\s*r.)\", art, re.IGNORECASE))\n",
    "        article_year.append(temp.group(4)) #tu whitespace tu w słowniku tylko\n",
    "\n",
    "    i+=1"
   ]
  },
  {
   "cell_type": "markdown",
   "metadata": {},
   "source": [
    "Tutaj tworzony jest dataframe z zawierający liczbę dodań, usunięć oraz zmian wraz z rokiem pochodzenia ustawy. Następnie jest robiony groupby aby zsumować wartości wzgledem roku oraz wartości zmienione są na procenty. Na końcu rysowany jest graf"
   ]
  },
  {
   "cell_type": "code",
   "execution_count": 192,
   "metadata": {},
   "outputs": [],
   "source": [
    "amendments_df = pd.DataFrame(list(zip(article_year, article_addition, article_removal, article_change)), columns=['year','add', 'remove', 'change'])"
   ]
  },
  {
   "cell_type": "code",
   "execution_count": 194,
   "metadata": {},
   "outputs": [
    {
     "data": {
      "text/html": [
       "<div>\n",
       "<style scoped>\n",
       "    .dataframe tbody tr th:only-of-type {\n",
       "        vertical-align: middle;\n",
       "    }\n",
       "\n",
       "    .dataframe tbody tr th {\n",
       "        vertical-align: top;\n",
       "    }\n",
       "\n",
       "    .dataframe thead th {\n",
       "        text-align: right;\n",
       "    }\n",
       "</style>\n",
       "<table border=\"1\" class=\"dataframe\">\n",
       "  <thead>\n",
       "    <tr style=\"text-align: right;\">\n",
       "      <th></th>\n",
       "      <th>add</th>\n",
       "      <th>remove</th>\n",
       "      <th>change</th>\n",
       "    </tr>\n",
       "    <tr>\n",
       "      <th>year</th>\n",
       "      <th></th>\n",
       "      <th></th>\n",
       "      <th></th>\n",
       "    </tr>\n",
       "  </thead>\n",
       "  <tbody>\n",
       "    <tr>\n",
       "      <th>1993</th>\n",
       "      <td>26</td>\n",
       "      <td>6</td>\n",
       "      <td>64</td>\n",
       "    </tr>\n",
       "    <tr>\n",
       "      <th>1994</th>\n",
       "      <td>67</td>\n",
       "      <td>31</td>\n",
       "      <td>77</td>\n",
       "    </tr>\n",
       "    <tr>\n",
       "      <th>1995</th>\n",
       "      <td>201</td>\n",
       "      <td>60</td>\n",
       "      <td>349</td>\n",
       "    </tr>\n",
       "    <tr>\n",
       "      <th>1996</th>\n",
       "      <td>214</td>\n",
       "      <td>110</td>\n",
       "      <td>500</td>\n",
       "    </tr>\n",
       "    <tr>\n",
       "      <th>1997</th>\n",
       "      <td>331</td>\n",
       "      <td>133</td>\n",
       "      <td>690</td>\n",
       "    </tr>\n",
       "    <tr>\n",
       "      <th>1998</th>\n",
       "      <td>402</td>\n",
       "      <td>176</td>\n",
       "      <td>919</td>\n",
       "    </tr>\n",
       "    <tr>\n",
       "      <th>1999</th>\n",
       "      <td>156</td>\n",
       "      <td>46</td>\n",
       "      <td>247</td>\n",
       "    </tr>\n",
       "    <tr>\n",
       "      <th>2000</th>\n",
       "      <td>715</td>\n",
       "      <td>234</td>\n",
       "      <td>1443</td>\n",
       "    </tr>\n",
       "    <tr>\n",
       "      <th>2001</th>\n",
       "      <td>929</td>\n",
       "      <td>231</td>\n",
       "      <td>1453</td>\n",
       "    </tr>\n",
       "    <tr>\n",
       "      <th>2002</th>\n",
       "      <td>8</td>\n",
       "      <td>2</td>\n",
       "      <td>29</td>\n",
       "    </tr>\n",
       "    <tr>\n",
       "      <th>2003</th>\n",
       "      <td>196</td>\n",
       "      <td>66</td>\n",
       "      <td>698</td>\n",
       "    </tr>\n",
       "    <tr>\n",
       "      <th>2004</th>\n",
       "      <td>201</td>\n",
       "      <td>37</td>\n",
       "      <td>438</td>\n",
       "    </tr>\n",
       "    <tr>\n",
       "      <th>2006</th>\n",
       "      <td>25</td>\n",
       "      <td>19</td>\n",
       "      <td>60</td>\n",
       "    </tr>\n",
       "    <tr>\n",
       "      <th>2007</th>\n",
       "      <td>72</td>\n",
       "      <td>61</td>\n",
       "      <td>146</td>\n",
       "    </tr>\n",
       "    <tr>\n",
       "      <th>2008</th>\n",
       "      <td>10</td>\n",
       "      <td>11</td>\n",
       "      <td>54</td>\n",
       "    </tr>\n",
       "    <tr>\n",
       "      <th>2009</th>\n",
       "      <td>27</td>\n",
       "      <td>24</td>\n",
       "      <td>94</td>\n",
       "    </tr>\n",
       "    <tr>\n",
       "      <th>2010</th>\n",
       "      <td>26</td>\n",
       "      <td>17</td>\n",
       "      <td>70</td>\n",
       "    </tr>\n",
       "    <tr>\n",
       "      <th>2011</th>\n",
       "      <td>17</td>\n",
       "      <td>11</td>\n",
       "      <td>47</td>\n",
       "    </tr>\n",
       "    <tr>\n",
       "      <th>2012</th>\n",
       "      <td>24</td>\n",
       "      <td>5</td>\n",
       "      <td>27</td>\n",
       "    </tr>\n",
       "    <tr>\n",
       "      <th>2013</th>\n",
       "      <td>118</td>\n",
       "      <td>14</td>\n",
       "      <td>168</td>\n",
       "    </tr>\n",
       "    <tr>\n",
       "      <th>2014</th>\n",
       "      <td>80</td>\n",
       "      <td>24</td>\n",
       "      <td>150</td>\n",
       "    </tr>\n",
       "    <tr>\n",
       "      <th>2015</th>\n",
       "      <td>86</td>\n",
       "      <td>22</td>\n",
       "      <td>152</td>\n",
       "    </tr>\n",
       "    <tr>\n",
       "      <th>2016</th>\n",
       "      <td>39</td>\n",
       "      <td>11</td>\n",
       "      <td>50</td>\n",
       "    </tr>\n",
       "    <tr>\n",
       "      <th>2017</th>\n",
       "      <td>160</td>\n",
       "      <td>50</td>\n",
       "      <td>305</td>\n",
       "    </tr>\n",
       "    <tr>\n",
       "      <th>2018</th>\n",
       "      <td>111</td>\n",
       "      <td>23</td>\n",
       "      <td>130</td>\n",
       "    </tr>\n",
       "    <tr>\n",
       "      <th>brak danych</th>\n",
       "      <td>0</td>\n",
       "      <td>0</td>\n",
       "      <td>0</td>\n",
       "    </tr>\n",
       "  </tbody>\n",
       "</table>\n",
       "</div>"
      ],
      "text/plain": [
       "             add  remove  change\n",
       "year                            \n",
       "1993          26       6      64\n",
       "1994          67      31      77\n",
       "1995         201      60     349\n",
       "1996         214     110     500\n",
       "1997         331     133     690\n",
       "1998         402     176     919\n",
       "1999         156      46     247\n",
       "2000         715     234    1443\n",
       "2001         929     231    1453\n",
       "2002           8       2      29\n",
       "2003         196      66     698\n",
       "2004         201      37     438\n",
       "2006          25      19      60\n",
       "2007          72      61     146\n",
       "2008          10      11      54\n",
       "2009          27      24      94\n",
       "2010          26      17      70\n",
       "2011          17      11      47\n",
       "2012          24       5      27\n",
       "2013         118      14     168\n",
       "2014          80      24     150\n",
       "2015          86      22     152\n",
       "2016          39      11      50\n",
       "2017         160      50     305\n",
       "2018         111      23     130\n",
       "brak danych    0       0       0"
      ]
     },
     "execution_count": 194,
     "metadata": {},
     "output_type": "execute_result"
    }
   ],
   "source": [
    "amendments_sum_df = amendments_df.groupby('year').sum()\n",
    "amendments_sum_df"
   ]
  },
  {
   "cell_type": "code",
   "execution_count": 196,
   "metadata": {},
   "outputs": [
    {
     "data": {
      "text/html": [
       "<div>\n",
       "<style scoped>\n",
       "    .dataframe tbody tr th:only-of-type {\n",
       "        vertical-align: middle;\n",
       "    }\n",
       "\n",
       "    .dataframe tbody tr th {\n",
       "        vertical-align: top;\n",
       "    }\n",
       "\n",
       "    .dataframe thead th {\n",
       "        text-align: right;\n",
       "    }\n",
       "</style>\n",
       "<table border=\"1\" class=\"dataframe\">\n",
       "  <thead>\n",
       "    <tr style=\"text-align: right;\">\n",
       "      <th></th>\n",
       "      <th>add</th>\n",
       "      <th>remove</th>\n",
       "      <th>change</th>\n",
       "    </tr>\n",
       "    <tr>\n",
       "      <th>year</th>\n",
       "      <th></th>\n",
       "      <th></th>\n",
       "      <th></th>\n",
       "    </tr>\n",
       "  </thead>\n",
       "  <tbody>\n",
       "    <tr>\n",
       "      <th>1993</th>\n",
       "      <td>0.270833</td>\n",
       "      <td>0.062500</td>\n",
       "      <td>0.666667</td>\n",
       "    </tr>\n",
       "    <tr>\n",
       "      <th>1994</th>\n",
       "      <td>0.382857</td>\n",
       "      <td>0.177143</td>\n",
       "      <td>0.440000</td>\n",
       "    </tr>\n",
       "    <tr>\n",
       "      <th>1995</th>\n",
       "      <td>0.329508</td>\n",
       "      <td>0.098361</td>\n",
       "      <td>0.572131</td>\n",
       "    </tr>\n",
       "    <tr>\n",
       "      <th>1996</th>\n",
       "      <td>0.259709</td>\n",
       "      <td>0.133495</td>\n",
       "      <td>0.606796</td>\n",
       "    </tr>\n",
       "    <tr>\n",
       "      <th>1997</th>\n",
       "      <td>0.286828</td>\n",
       "      <td>0.115251</td>\n",
       "      <td>0.597920</td>\n",
       "    </tr>\n",
       "    <tr>\n",
       "      <th>1998</th>\n",
       "      <td>0.268537</td>\n",
       "      <td>0.117568</td>\n",
       "      <td>0.613894</td>\n",
       "    </tr>\n",
       "    <tr>\n",
       "      <th>1999</th>\n",
       "      <td>0.347439</td>\n",
       "      <td>0.102450</td>\n",
       "      <td>0.550111</td>\n",
       "    </tr>\n",
       "    <tr>\n",
       "      <th>2000</th>\n",
       "      <td>0.298913</td>\n",
       "      <td>0.097826</td>\n",
       "      <td>0.603261</td>\n",
       "    </tr>\n",
       "    <tr>\n",
       "      <th>2001</th>\n",
       "      <td>0.355530</td>\n",
       "      <td>0.088404</td>\n",
       "      <td>0.556066</td>\n",
       "    </tr>\n",
       "    <tr>\n",
       "      <th>2002</th>\n",
       "      <td>0.205128</td>\n",
       "      <td>0.051282</td>\n",
       "      <td>0.743590</td>\n",
       "    </tr>\n",
       "    <tr>\n",
       "      <th>2003</th>\n",
       "      <td>0.204167</td>\n",
       "      <td>0.068750</td>\n",
       "      <td>0.727083</td>\n",
       "    </tr>\n",
       "    <tr>\n",
       "      <th>2004</th>\n",
       "      <td>0.297337</td>\n",
       "      <td>0.054734</td>\n",
       "      <td>0.647929</td>\n",
       "    </tr>\n",
       "    <tr>\n",
       "      <th>2006</th>\n",
       "      <td>0.240385</td>\n",
       "      <td>0.182692</td>\n",
       "      <td>0.576923</td>\n",
       "    </tr>\n",
       "    <tr>\n",
       "      <th>2007</th>\n",
       "      <td>0.258065</td>\n",
       "      <td>0.218638</td>\n",
       "      <td>0.523297</td>\n",
       "    </tr>\n",
       "    <tr>\n",
       "      <th>2008</th>\n",
       "      <td>0.133333</td>\n",
       "      <td>0.146667</td>\n",
       "      <td>0.720000</td>\n",
       "    </tr>\n",
       "    <tr>\n",
       "      <th>2009</th>\n",
       "      <td>0.186207</td>\n",
       "      <td>0.165517</td>\n",
       "      <td>0.648276</td>\n",
       "    </tr>\n",
       "    <tr>\n",
       "      <th>2010</th>\n",
       "      <td>0.230088</td>\n",
       "      <td>0.150442</td>\n",
       "      <td>0.619469</td>\n",
       "    </tr>\n",
       "    <tr>\n",
       "      <th>2011</th>\n",
       "      <td>0.226667</td>\n",
       "      <td>0.146667</td>\n",
       "      <td>0.626667</td>\n",
       "    </tr>\n",
       "    <tr>\n",
       "      <th>2012</th>\n",
       "      <td>0.428571</td>\n",
       "      <td>0.089286</td>\n",
       "      <td>0.482143</td>\n",
       "    </tr>\n",
       "    <tr>\n",
       "      <th>2013</th>\n",
       "      <td>0.393333</td>\n",
       "      <td>0.046667</td>\n",
       "      <td>0.560000</td>\n",
       "    </tr>\n",
       "    <tr>\n",
       "      <th>2014</th>\n",
       "      <td>0.314961</td>\n",
       "      <td>0.094488</td>\n",
       "      <td>0.590551</td>\n",
       "    </tr>\n",
       "    <tr>\n",
       "      <th>2015</th>\n",
       "      <td>0.330769</td>\n",
       "      <td>0.084615</td>\n",
       "      <td>0.584615</td>\n",
       "    </tr>\n",
       "    <tr>\n",
       "      <th>2016</th>\n",
       "      <td>0.390000</td>\n",
       "      <td>0.110000</td>\n",
       "      <td>0.500000</td>\n",
       "    </tr>\n",
       "    <tr>\n",
       "      <th>2017</th>\n",
       "      <td>0.310680</td>\n",
       "      <td>0.097087</td>\n",
       "      <td>0.592233</td>\n",
       "    </tr>\n",
       "    <tr>\n",
       "      <th>2018</th>\n",
       "      <td>0.420455</td>\n",
       "      <td>0.087121</td>\n",
       "      <td>0.492424</td>\n",
       "    </tr>\n",
       "    <tr>\n",
       "      <th>brak danych</th>\n",
       "      <td>NaN</td>\n",
       "      <td>NaN</td>\n",
       "      <td>NaN</td>\n",
       "    </tr>\n",
       "  </tbody>\n",
       "</table>\n",
       "</div>"
      ],
      "text/plain": [
       "                  add    remove    change\n",
       "year                                     \n",
       "1993         0.270833  0.062500  0.666667\n",
       "1994         0.382857  0.177143  0.440000\n",
       "1995         0.329508  0.098361  0.572131\n",
       "1996         0.259709  0.133495  0.606796\n",
       "1997         0.286828  0.115251  0.597920\n",
       "1998         0.268537  0.117568  0.613894\n",
       "1999         0.347439  0.102450  0.550111\n",
       "2000         0.298913  0.097826  0.603261\n",
       "2001         0.355530  0.088404  0.556066\n",
       "2002         0.205128  0.051282  0.743590\n",
       "2003         0.204167  0.068750  0.727083\n",
       "2004         0.297337  0.054734  0.647929\n",
       "2006         0.240385  0.182692  0.576923\n",
       "2007         0.258065  0.218638  0.523297\n",
       "2008         0.133333  0.146667  0.720000\n",
       "2009         0.186207  0.165517  0.648276\n",
       "2010         0.230088  0.150442  0.619469\n",
       "2011         0.226667  0.146667  0.626667\n",
       "2012         0.428571  0.089286  0.482143\n",
       "2013         0.393333  0.046667  0.560000\n",
       "2014         0.314961  0.094488  0.590551\n",
       "2015         0.330769  0.084615  0.584615\n",
       "2016         0.390000  0.110000  0.500000\n",
       "2017         0.310680  0.097087  0.592233\n",
       "2018         0.420455  0.087121  0.492424\n",
       "brak danych       NaN       NaN       NaN"
      ]
     },
     "execution_count": 196,
     "metadata": {},
     "output_type": "execute_result"
    }
   ],
   "source": [
    "amendments_perc_df = (amendments_sum_df.T / amendments_sum_df.T.sum()).Tdf.plot.bar(rot=0)\n",
    "amendments_perc_df"
   ]
  },
  {
   "cell_type": "code",
   "execution_count": 264,
   "metadata": {},
   "outputs": [
    {
     "data": {
      "text/plain": [
       "<AxesSubplot: xlabel='year'>"
      ]
     },
     "execution_count": 264,
     "metadata": {},
     "output_type": "execute_result"
    },
    {
     "data": {
      "image/png": "[encoded data removed]",
      "text/plain": [
       "<Figure size 1656x864 with 1 Axes>"
      ]
     },
     "metadata": {
      "needs_background": "light"
     },
     "output_type": "display_data"
    }
   ],
   "source": [
    "amendments_perc_df.plot.bar(figsize=(23,12))"
   ]
  },
  {
   "cell_type": "markdown",
   "metadata": {},
   "source": [
    "Task 4"
   ]
  },
  {
   "cell_type": "markdown",
   "metadata": {},
   "source": [
    "Formuła zawiera to czego szukamy, czyli wszystkie formy fleksyjne. \\W+ jest aby nie wyłapywać słów połączonych. Tak samo w task 5, task 6 oraz task 7"
   ]
  },
  {
   "cell_type": "code",
   "execution_count": 253,
   "metadata": {},
   "outputs": [
    {
     "name": "stdout",
     "output_type": "stream",
     "text": [
      "24114\n"
     ]
    }
   ],
   "source": [
    "formula = r\"(ustawa|ustawy|ustaw|ustawie|ustawom|ustawę|ustawą|ustawami|ustawie|ustawach|ustawo|ustawy)\\W+\"\n",
    "\n",
    "ustawa_count = 0\n",
    "for art in articles_list:\n",
    "    ustawa_count+=len(re.findall(formula, art, re.IGNORECASE)) #tu whitespace tu w słowniku tylko\n",
    "print(ustawa_count)"
   ]
  },
  {
   "cell_type": "markdown",
   "metadata": {},
   "source": [
    "task 5"
   ]
  },
  {
   "cell_type": "code",
   "execution_count": 256,
   "metadata": {},
   "outputs": [
    {
     "name": "stdout",
     "output_type": "stream",
     "text": [
      "8286\n"
     ]
    }
   ],
   "source": [
    "formula = r\"(ustawa|ustawy|ustaw|ustawie|ustawom|ustawę|ustawą|ustawami|ustawie|ustawach|ustawo|ustawy)\\W+(?=(\\s*z\\s*dnia))\"\n",
    "\n",
    "ustawa_zdnia_count = 0\n",
    "for art in articles_list:\n",
    "    ustawa_zdnia_count+=len(re.findall(formula, art, re.IGNORECASE)) #tu whitespace tu w słowniku tylko\n",
    "print(ustawa_zdnia_count)"
   ]
  },
  {
   "cell_type": "markdown",
   "metadata": {},
   "source": [
    "task 6"
   ]
  },
  {
   "cell_type": "code",
   "execution_count": 257,
   "metadata": {},
   "outputs": [
    {
     "name": "stdout",
     "output_type": "stream",
     "text": [
      "15828\n"
     ]
    }
   ],
   "source": [
    "formula = r\"(ustawa|ustawy|ustaw|ustawie|ustawom|ustawę|ustawą|ustawami|ustawie|ustawach|ustawo|ustawy)\\W+(?!(\\s*z\\s*dnia))\"\n",
    "\n",
    "ustawa_niezdnia_count = 0\n",
    "for art in articles_list:\n",
    "    ustawa_niezdnia_count+=len(re.findall(formula, art, re.IGNORECASE)) #tu whitespace tu w słowniku tylko\n",
    "print(ustawa_niezdnia_count)"
   ]
  },
  {
   "cell_type": "markdown",
   "metadata": {},
   "source": [
    "(result 4 =? result 5 + result 6)?"
   ]
  },
  {
   "cell_type": "code",
   "execution_count": 259,
   "metadata": {},
   "outputs": [
    {
     "data": {
      "text/plain": [
       "True"
      ]
     },
     "execution_count": 259,
     "metadata": {},
     "output_type": "execute_result"
    }
   ],
   "source": [
    "ustawa_zdnia_count + ustawa_niezdnia_count == ustawa_count"
   ]
  },
  {
   "cell_type": "markdown",
   "metadata": {},
   "source": [
    "task 7"
   ]
  },
  {
   "cell_type": "code",
   "execution_count": 260,
   "metadata": {},
   "outputs": [
    {
     "name": "stdout",
     "output_type": "stream",
     "text": [
      "24083\n"
     ]
    }
   ],
   "source": [
    "formula = r\"(ustawa|ustawy|ustaw|ustawie|ustawom|ustawę|ustawą|ustawami|ustawie|ustawach|ustawo|ustawy)\\W+(?!(\\s*o\\s*zmianie))\"\n",
    "\n",
    "ustawa_nieozmianie_count = 0\n",
    "for art in articles_list:\n",
    "    ustawa_nieozmianie_count+=len(re.findall(formula, art, re.IGNORECASE)) #tu whitespace tu w słowniku tylko\n",
    "print(ustawa_nieozmianie_count)"
   ]
  },
  {
   "cell_type": "markdown",
   "metadata": {},
   "source": [
    "task 8"
   ]
  },
  {
   "cell_type": "markdown",
   "metadata": {},
   "source": [
    "Z wyników poprzednich zadań tworzony jest dataframe a następnie rysowany graf"
   ]
  },
  {
   "cell_type": "code",
   "execution_count": 263,
   "metadata": {},
   "outputs": [
    {
     "data": {
      "text/plain": [
       "<AxesSubplot: xlabel='lab'>"
      ]
     },
     "execution_count": 263,
     "metadata": {},
     "output_type": "execute_result"
    },
    {
     "data": {
      "image/png": "[encoded data removed]",
      "text/plain": [
       "<Figure size 432x288 with 1 Axes>"
      ]
     },
     "metadata": {
      "needs_background": "light"
     },
     "output_type": "display_data"
    }
   ],
   "source": [
    "df_bar = pd.DataFrame({'lab':['Wszystkie Ustawy', 'Ustawy z dnia', 'Ustawy nie z dnia', \"ustawy nie o zmianie\"], 'ilosc':[ustawa_count, ustawa_zdnia_count, ustawa_niezdnia_count, ustawa_nieozmianie_count]})\n",
    "df_bar.plot.bar(x='lab', y='ilosc')"
   ]
  },
  {
   "cell_type": "code",
   "execution_count": null,
   "metadata": {},
   "outputs": [],
   "source": []
  }
 ],
 "metadata": {
  "kernelspec": {
   "display_name": "Python 3 (ipykernel)",
   "language": "python",
   "name": "python3"
  },
  "language_info": {
   "codemirror_mode": {
    "name": "ipython",
    "version": 3
   },
   "file_extension": ".py",
   "mimetype": "text/x-python",
   "name": "python",
   "nbconvert_exporter": "python",
   "pygments_lexer": "ipython3",
   "version": "3.9.13"
  }
 },
 "nbformat": 4,
 "nbformat_minor": 1
}
